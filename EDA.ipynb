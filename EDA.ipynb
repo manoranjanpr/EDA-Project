{
  "cells": [
    {
      "cell_type": "markdown",
      "metadata": {
        "id": "H5gp72Mrv5ol"
      },
      "source": [
        "# US Accidents Exploratory Data Analysis\n",
        "\n",
        "TODO - talk about EDA\n",
        "TODO - talk about the dataset (source,what it contains, how it will be usefull)\n",
        "- Kaggle\n",
        "- information about accidents\n",
        "- can use useful to prevent accidents\n",
        "- mention that this does not contain data about New York\n"
      ]
    },
    {
      "cell_type": "code",
      "execution_count": 3,
      "metadata": {
        "id": "3VPXPRy9wOPf"
      },
      "outputs": [],
      "source": [
        "pip install opendatasets --upgrade --quiet"
      ]
    },
    {
      "cell_type": "code",
      "execution_count": 6,
      "metadata": {
        "id": "0V6AjnUMv3bL"
      },
      "outputs": [],
      "source": [
        "import opendatasets as od"
      ]
    },
    {
      "cell_type": "code",
      "execution_count": 7,
      "metadata": {
        "colab": {
          "base_uri": "https://localhost:8080/"
        },
        "id": "kwJ5KZrKxCrm",
        "outputId": "96c059c9-fdad-4b3b-916d-fc40982dc32a"
      },
      "outputs": [
        {
          "output_type": "stream",
          "name": "stdout",
          "text": [
            "Please provide your Kaggle credentials to download this dataset. Learn more: http://bit.ly/kaggle-creds\n",
            "Your Kaggle username: manoranjan3856\n",
            "Your Kaggle Key: ··········\n",
            "Downloading us-accidents.zip to ./us-accidents\n"
          ]
        },
        {
          "output_type": "stream",
          "name": "stderr",
          "text": [
            "100%|██████████| 269M/269M [00:01<00:00, 148MB/s]\n"
          ]
        },
        {
          "output_type": "stream",
          "name": "stdout",
          "text": [
            "\n"
          ]
        }
      ],
      "source": [
        "\n",
        "download_url = \"https://www.kaggle.com/datasets/sobhanmoosavi/us-accidents\"\n",
        "od.download(download_url)"
      ]
    },
    {
      "cell_type": "code",
      "execution_count": 8,
      "metadata": {
        "id": "nGyZTjNJxosZ"
      },
      "outputs": [],
      "source": [
        "data_filename = './us-accidents/US_Accidents.csv'"
      ]
    },
    {
      "cell_type": "code",
      "execution_count": 8,
      "metadata": {
        "id": "whOFj-M05MjX"
      },
      "outputs": [],
      "source": []
    },
    {
      "cell_type": "markdown",
      "metadata": {
        "id": "VI6kxE515Rh9"
      },
      "source": [
        "## Data Preparation and Cleaning\n",
        "\n",
        "- Load the file using Pandas\n",
        "- Look at some information about the data & the columns\n",
        "- Fix any missing or incorrect values"
      ]
    },
    {
      "cell_type": "code",
      "execution_count": 29,
      "metadata": {
        "id": "XvVrGSzm5a4h"
      },
      "outputs": [],
      "source": [
        "import pandas as pd"
      ]
    },
    {
      "cell_type": "code",
      "execution_count": 30,
      "metadata": {
        "id": "IPWIlxtZ6x84"
      },
      "outputs": [],
      "source": [
        "df = pd.read_csv(data_filename)"
      ]
    },
    {
      "cell_type": "code",
      "execution_count": 31,
      "metadata": {
        "id": "vR9HMHb47Ocr",
        "colab": {
          "base_uri": "https://localhost:8080/",
          "height": 938
        },
        "outputId": "f3648719-4ed1-4c63-9edd-444a1e53b203"
      },
      "outputs": [
        {
          "output_type": "execute_result",
          "data": {
            "text/plain": [
              "                ID  Severity           Start_Time             End_Time  \\\n",
              "0              A-1         3  2016-02-08 00:37:08  2016-02-08 06:37:08   \n",
              "1              A-2         2  2016-02-08 05:56:20  2016-02-08 11:56:20   \n",
              "2              A-3         2  2016-02-08 06:15:39  2016-02-08 12:15:39   \n",
              "3              A-4         2  2016-02-08 06:51:45  2016-02-08 12:51:45   \n",
              "4              A-5         3  2016-02-08 07:53:43  2016-02-08 13:53:43   \n",
              "...            ...       ...                  ...                  ...   \n",
              "2845337  A-2845338         2  2019-08-23 18:03:25  2019-08-23 18:32:01   \n",
              "2845338  A-2845339         2  2019-08-23 19:11:30  2019-08-23 19:38:23   \n",
              "2845339  A-2845340         2  2019-08-23 19:00:21  2019-08-23 19:28:49   \n",
              "2845340  A-2845341         2  2019-08-23 19:00:21  2019-08-23 19:29:42   \n",
              "2845341  A-2845342         2  2019-08-23 18:52:06  2019-08-23 19:21:31   \n",
              "\n",
              "         Start_Lat   Start_Lng    End_Lat     End_Lng  Distance(mi)  \\\n",
              "0        40.108910  -83.092860  40.112060  -83.031870         3.230   \n",
              "1        39.865420  -84.062800  39.865010  -84.048730         0.747   \n",
              "2        39.102660  -84.524680  39.102090  -84.523960         0.055   \n",
              "3        41.062130  -81.537840  41.062170  -81.535470         0.123   \n",
              "4        39.172393  -84.492792  39.170476  -84.501798         0.500   \n",
              "...            ...         ...        ...         ...           ...   \n",
              "2845337  34.002480 -117.379360  33.998880 -117.370940         0.543   \n",
              "2845338  32.766960 -117.148060  32.765550 -117.153630         0.338   \n",
              "2845339  33.775450 -117.847790  33.777400 -117.857270         0.561   \n",
              "2845340  33.992460 -118.403020  33.983110 -118.395650         0.772   \n",
              "2845341  34.133930 -117.230920  34.137360 -117.239340         0.537   \n",
              "\n",
              "                                               Description  ...  Roundabout  \\\n",
              "0        Between Sawmill Rd/Exit 20 and OH-315/Olentang...  ...       False   \n",
              "1                       At OH-4/OH-235/Exit 41 - Accident.  ...       False   \n",
              "2                         At I-71/US-50/Exit 1 - Accident.  ...       False   \n",
              "3                          At Dart Ave/Exit 21 - Accident.  ...       False   \n",
              "4                       At Mitchell Ave/Exit 6 - Accident.  ...       False   \n",
              "...                                                    ...  ...         ...   \n",
              "2845337                           At Market St - Accident.  ...       False   \n",
              "2845338    At Camino Del Rio/Mission Center Rd - Accident.  ...       False   \n",
              "2845339  At Glassell St/Grand Ave - Accident. in the ri...  ...       False   \n",
              "2845340     At CA-90/Marina Fwy/Jefferson Blvd - Accident.  ...       False   \n",
              "2845341              At Highland Ave/Arden Ave - Accident.  ...       False   \n",
              "\n",
              "        Station   Stop Traffic_Calming Traffic_Signal Turning_Loop  \\\n",
              "0         False  False           False          False        False   \n",
              "1         False  False           False          False        False   \n",
              "2         False  False           False          False        False   \n",
              "3         False  False           False          False        False   \n",
              "4         False  False           False          False        False   \n",
              "...         ...    ...             ...            ...          ...   \n",
              "2845337   False  False           False          False        False   \n",
              "2845338   False  False           False          False        False   \n",
              "2845339   False  False           False          False        False   \n",
              "2845340   False  False           False          False        False   \n",
              "2845341   False  False           False          False        False   \n",
              "\n",
              "        Sunrise_Sunset Civil_Twilight Nautical_Twilight Astronomical_Twilight  \n",
              "0                Night          Night             Night                 Night  \n",
              "1                Night          Night             Night                 Night  \n",
              "2                Night          Night             Night                   Day  \n",
              "3                Night          Night               Day                   Day  \n",
              "4                  Day            Day               Day                   Day  \n",
              "...                ...            ...               ...                   ...  \n",
              "2845337            Day            Day               Day                   Day  \n",
              "2845338            Day            Day               Day                   Day  \n",
              "2845339            Day            Day               Day                   Day  \n",
              "2845340            Day            Day               Day                   Day  \n",
              "2845341            Day            Day               Day                   Day  \n",
              "\n",
              "[2845342 rows x 47 columns]"
            ],
            "text/html": [
              "\n",
              "  <div id=\"df-cfd1a19f-c7ae-4037-bec1-18e24f680c9c\">\n",
              "    <div class=\"colab-df-container\">\n",
              "      <div>\n",
              "<style scoped>\n",
              "    .dataframe tbody tr th:only-of-type {\n",
              "        vertical-align: middle;\n",
              "    }\n",
              "\n",
              "    .dataframe tbody tr th {\n",
              "        vertical-align: top;\n",
              "    }\n",
              "\n",
              "    .dataframe thead th {\n",
              "        text-align: right;\n",
              "    }\n",
              "</style>\n",
              "<table border=\"1\" class=\"dataframe\">\n",
              "  <thead>\n",
              "    <tr style=\"text-align: right;\">\n",
              "      <th></th>\n",
              "      <th>ID</th>\n",
              "      <th>Severity</th>\n",
              "      <th>Start_Time</th>\n",
              "      <th>End_Time</th>\n",
              "      <th>Start_Lat</th>\n",
              "      <th>Start_Lng</th>\n",
              "      <th>End_Lat</th>\n",
              "      <th>End_Lng</th>\n",
              "      <th>Distance(mi)</th>\n",
              "      <th>Description</th>\n",
              "      <th>...</th>\n",
              "      <th>Roundabout</th>\n",
              "      <th>Station</th>\n",
              "      <th>Stop</th>\n",
              "      <th>Traffic_Calming</th>\n",
              "      <th>Traffic_Signal</th>\n",
              "      <th>Turning_Loop</th>\n",
              "      <th>Sunrise_Sunset</th>\n",
              "      <th>Civil_Twilight</th>\n",
              "      <th>Nautical_Twilight</th>\n",
              "      <th>Astronomical_Twilight</th>\n",
              "    </tr>\n",
              "  </thead>\n",
              "  <tbody>\n",
              "    <tr>\n",
              "      <th>0</th>\n",
              "      <td>A-1</td>\n",
              "      <td>3</td>\n",
              "      <td>2016-02-08 00:37:08</td>\n",
              "      <td>2016-02-08 06:37:08</td>\n",
              "      <td>40.108910</td>\n",
              "      <td>-83.092860</td>\n",
              "      <td>40.112060</td>\n",
              "      <td>-83.031870</td>\n",
              "      <td>3.230</td>\n",
              "      <td>Between Sawmill Rd/Exit 20 and OH-315/Olentang...</td>\n",
              "      <td>...</td>\n",
              "      <td>False</td>\n",
              "      <td>False</td>\n",
              "      <td>False</td>\n",
              "      <td>False</td>\n",
              "      <td>False</td>\n",
              "      <td>False</td>\n",
              "      <td>Night</td>\n",
              "      <td>Night</td>\n",
              "      <td>Night</td>\n",
              "      <td>Night</td>\n",
              "    </tr>\n",
              "    <tr>\n",
              "      <th>1</th>\n",
              "      <td>A-2</td>\n",
              "      <td>2</td>\n",
              "      <td>2016-02-08 05:56:20</td>\n",
              "      <td>2016-02-08 11:56:20</td>\n",
              "      <td>39.865420</td>\n",
              "      <td>-84.062800</td>\n",
              "      <td>39.865010</td>\n",
              "      <td>-84.048730</td>\n",
              "      <td>0.747</td>\n",
              "      <td>At OH-4/OH-235/Exit 41 - Accident.</td>\n",
              "      <td>...</td>\n",
              "      <td>False</td>\n",
              "      <td>False</td>\n",
              "      <td>False</td>\n",
              "      <td>False</td>\n",
              "      <td>False</td>\n",
              "      <td>False</td>\n",
              "      <td>Night</td>\n",
              "      <td>Night</td>\n",
              "      <td>Night</td>\n",
              "      <td>Night</td>\n",
              "    </tr>\n",
              "    <tr>\n",
              "      <th>2</th>\n",
              "      <td>A-3</td>\n",
              "      <td>2</td>\n",
              "      <td>2016-02-08 06:15:39</td>\n",
              "      <td>2016-02-08 12:15:39</td>\n",
              "      <td>39.102660</td>\n",
              "      <td>-84.524680</td>\n",
              "      <td>39.102090</td>\n",
              "      <td>-84.523960</td>\n",
              "      <td>0.055</td>\n",
              "      <td>At I-71/US-50/Exit 1 - Accident.</td>\n",
              "      <td>...</td>\n",
              "      <td>False</td>\n",
              "      <td>False</td>\n",
              "      <td>False</td>\n",
              "      <td>False</td>\n",
              "      <td>False</td>\n",
              "      <td>False</td>\n",
              "      <td>Night</td>\n",
              "      <td>Night</td>\n",
              "      <td>Night</td>\n",
              "      <td>Day</td>\n",
              "    </tr>\n",
              "    <tr>\n",
              "      <th>3</th>\n",
              "      <td>A-4</td>\n",
              "      <td>2</td>\n",
              "      <td>2016-02-08 06:51:45</td>\n",
              "      <td>2016-02-08 12:51:45</td>\n",
              "      <td>41.062130</td>\n",
              "      <td>-81.537840</td>\n",
              "      <td>41.062170</td>\n",
              "      <td>-81.535470</td>\n",
              "      <td>0.123</td>\n",
              "      <td>At Dart Ave/Exit 21 - Accident.</td>\n",
              "      <td>...</td>\n",
              "      <td>False</td>\n",
              "      <td>False</td>\n",
              "      <td>False</td>\n",
              "      <td>False</td>\n",
              "      <td>False</td>\n",
              "      <td>False</td>\n",
              "      <td>Night</td>\n",
              "      <td>Night</td>\n",
              "      <td>Day</td>\n",
              "      <td>Day</td>\n",
              "    </tr>\n",
              "    <tr>\n",
              "      <th>4</th>\n",
              "      <td>A-5</td>\n",
              "      <td>3</td>\n",
              "      <td>2016-02-08 07:53:43</td>\n",
              "      <td>2016-02-08 13:53:43</td>\n",
              "      <td>39.172393</td>\n",
              "      <td>-84.492792</td>\n",
              "      <td>39.170476</td>\n",
              "      <td>-84.501798</td>\n",
              "      <td>0.500</td>\n",
              "      <td>At Mitchell Ave/Exit 6 - Accident.</td>\n",
              "      <td>...</td>\n",
              "      <td>False</td>\n",
              "      <td>False</td>\n",
              "      <td>False</td>\n",
              "      <td>False</td>\n",
              "      <td>False</td>\n",
              "      <td>False</td>\n",
              "      <td>Day</td>\n",
              "      <td>Day</td>\n",
              "      <td>Day</td>\n",
              "      <td>Day</td>\n",
              "    </tr>\n",
              "    <tr>\n",
              "      <th>...</th>\n",
              "      <td>...</td>\n",
              "      <td>...</td>\n",
              "      <td>...</td>\n",
              "      <td>...</td>\n",
              "      <td>...</td>\n",
              "      <td>...</td>\n",
              "      <td>...</td>\n",
              "      <td>...</td>\n",
              "      <td>...</td>\n",
              "      <td>...</td>\n",
              "      <td>...</td>\n",
              "      <td>...</td>\n",
              "      <td>...</td>\n",
              "      <td>...</td>\n",
              "      <td>...</td>\n",
              "      <td>...</td>\n",
              "      <td>...</td>\n",
              "      <td>...</td>\n",
              "      <td>...</td>\n",
              "      <td>...</td>\n",
              "      <td>...</td>\n",
              "    </tr>\n",
              "    <tr>\n",
              "      <th>2845337</th>\n",
              "      <td>A-2845338</td>\n",
              "      <td>2</td>\n",
              "      <td>2019-08-23 18:03:25</td>\n",
              "      <td>2019-08-23 18:32:01</td>\n",
              "      <td>34.002480</td>\n",
              "      <td>-117.379360</td>\n",
              "      <td>33.998880</td>\n",
              "      <td>-117.370940</td>\n",
              "      <td>0.543</td>\n",
              "      <td>At Market St - Accident.</td>\n",
              "      <td>...</td>\n",
              "      <td>False</td>\n",
              "      <td>False</td>\n",
              "      <td>False</td>\n",
              "      <td>False</td>\n",
              "      <td>False</td>\n",
              "      <td>False</td>\n",
              "      <td>Day</td>\n",
              "      <td>Day</td>\n",
              "      <td>Day</td>\n",
              "      <td>Day</td>\n",
              "    </tr>\n",
              "    <tr>\n",
              "      <th>2845338</th>\n",
              "      <td>A-2845339</td>\n",
              "      <td>2</td>\n",
              "      <td>2019-08-23 19:11:30</td>\n",
              "      <td>2019-08-23 19:38:23</td>\n",
              "      <td>32.766960</td>\n",
              "      <td>-117.148060</td>\n",
              "      <td>32.765550</td>\n",
              "      <td>-117.153630</td>\n",
              "      <td>0.338</td>\n",
              "      <td>At Camino Del Rio/Mission Center Rd - Accident.</td>\n",
              "      <td>...</td>\n",
              "      <td>False</td>\n",
              "      <td>False</td>\n",
              "      <td>False</td>\n",
              "      <td>False</td>\n",
              "      <td>False</td>\n",
              "      <td>False</td>\n",
              "      <td>Day</td>\n",
              "      <td>Day</td>\n",
              "      <td>Day</td>\n",
              "      <td>Day</td>\n",
              "    </tr>\n",
              "    <tr>\n",
              "      <th>2845339</th>\n",
              "      <td>A-2845340</td>\n",
              "      <td>2</td>\n",
              "      <td>2019-08-23 19:00:21</td>\n",
              "      <td>2019-08-23 19:28:49</td>\n",
              "      <td>33.775450</td>\n",
              "      <td>-117.847790</td>\n",
              "      <td>33.777400</td>\n",
              "      <td>-117.857270</td>\n",
              "      <td>0.561</td>\n",
              "      <td>At Glassell St/Grand Ave - Accident. in the ri...</td>\n",
              "      <td>...</td>\n",
              "      <td>False</td>\n",
              "      <td>False</td>\n",
              "      <td>False</td>\n",
              "      <td>False</td>\n",
              "      <td>False</td>\n",
              "      <td>False</td>\n",
              "      <td>Day</td>\n",
              "      <td>Day</td>\n",
              "      <td>Day</td>\n",
              "      <td>Day</td>\n",
              "    </tr>\n",
              "    <tr>\n",
              "      <th>2845340</th>\n",
              "      <td>A-2845341</td>\n",
              "      <td>2</td>\n",
              "      <td>2019-08-23 19:00:21</td>\n",
              "      <td>2019-08-23 19:29:42</td>\n",
              "      <td>33.992460</td>\n",
              "      <td>-118.403020</td>\n",
              "      <td>33.983110</td>\n",
              "      <td>-118.395650</td>\n",
              "      <td>0.772</td>\n",
              "      <td>At CA-90/Marina Fwy/Jefferson Blvd - Accident.</td>\n",
              "      <td>...</td>\n",
              "      <td>False</td>\n",
              "      <td>False</td>\n",
              "      <td>False</td>\n",
              "      <td>False</td>\n",
              "      <td>False</td>\n",
              "      <td>False</td>\n",
              "      <td>Day</td>\n",
              "      <td>Day</td>\n",
              "      <td>Day</td>\n",
              "      <td>Day</td>\n",
              "    </tr>\n",
              "    <tr>\n",
              "      <th>2845341</th>\n",
              "      <td>A-2845342</td>\n",
              "      <td>2</td>\n",
              "      <td>2019-08-23 18:52:06</td>\n",
              "      <td>2019-08-23 19:21:31</td>\n",
              "      <td>34.133930</td>\n",
              "      <td>-117.230920</td>\n",
              "      <td>34.137360</td>\n",
              "      <td>-117.239340</td>\n",
              "      <td>0.537</td>\n",
              "      <td>At Highland Ave/Arden Ave - Accident.</td>\n",
              "      <td>...</td>\n",
              "      <td>False</td>\n",
              "      <td>False</td>\n",
              "      <td>False</td>\n",
              "      <td>False</td>\n",
              "      <td>False</td>\n",
              "      <td>False</td>\n",
              "      <td>Day</td>\n",
              "      <td>Day</td>\n",
              "      <td>Day</td>\n",
              "      <td>Day</td>\n",
              "    </tr>\n",
              "  </tbody>\n",
              "</table>\n",
              "<p>2845342 rows × 47 columns</p>\n",
              "</div>\n",
              "      <button class=\"colab-df-convert\" onclick=\"convertToInteractive('df-cfd1a19f-c7ae-4037-bec1-18e24f680c9c')\"\n",
              "              title=\"Convert this dataframe to an interactive table.\"\n",
              "              style=\"display:none;\">\n",
              "        \n",
              "  <svg xmlns=\"http://www.w3.org/2000/svg\" height=\"24px\"viewBox=\"0 0 24 24\"\n",
              "       width=\"24px\">\n",
              "    <path d=\"M0 0h24v24H0V0z\" fill=\"none\"/>\n",
              "    <path d=\"M18.56 5.44l.94 2.06.94-2.06 2.06-.94-2.06-.94-.94-2.06-.94 2.06-2.06.94zm-11 1L8.5 8.5l.94-2.06 2.06-.94-2.06-.94L8.5 2.5l-.94 2.06-2.06.94zm10 10l.94 2.06.94-2.06 2.06-.94-2.06-.94-.94-2.06-.94 2.06-2.06.94z\"/><path d=\"M17.41 7.96l-1.37-1.37c-.4-.4-.92-.59-1.43-.59-.52 0-1.04.2-1.43.59L10.3 9.45l-7.72 7.72c-.78.78-.78 2.05 0 2.83L4 21.41c.39.39.9.59 1.41.59.51 0 1.02-.2 1.41-.59l7.78-7.78 2.81-2.81c.8-.78.8-2.07 0-2.86zM5.41 20L4 18.59l7.72-7.72 1.47 1.35L5.41 20z\"/>\n",
              "  </svg>\n",
              "      </button>\n",
              "      \n",
              "  <style>\n",
              "    .colab-df-container {\n",
              "      display:flex;\n",
              "      flex-wrap:wrap;\n",
              "      gap: 12px;\n",
              "    }\n",
              "\n",
              "    .colab-df-convert {\n",
              "      background-color: #E8F0FE;\n",
              "      border: none;\n",
              "      border-radius: 50%;\n",
              "      cursor: pointer;\n",
              "      display: none;\n",
              "      fill: #1967D2;\n",
              "      height: 32px;\n",
              "      padding: 0 0 0 0;\n",
              "      width: 32px;\n",
              "    }\n",
              "\n",
              "    .colab-df-convert:hover {\n",
              "      background-color: #E2EBFA;\n",
              "      box-shadow: 0px 1px 2px rgba(60, 64, 67, 0.3), 0px 1px 3px 1px rgba(60, 64, 67, 0.15);\n",
              "      fill: #174EA6;\n",
              "    }\n",
              "\n",
              "    [theme=dark] .colab-df-convert {\n",
              "      background-color: #3B4455;\n",
              "      fill: #D2E3FC;\n",
              "    }\n",
              "\n",
              "    [theme=dark] .colab-df-convert:hover {\n",
              "      background-color: #434B5C;\n",
              "      box-shadow: 0px 1px 3px 1px rgba(0, 0, 0, 0.15);\n",
              "      filter: drop-shadow(0px 1px 2px rgba(0, 0, 0, 0.3));\n",
              "      fill: #FFFFFF;\n",
              "    }\n",
              "  </style>\n",
              "\n",
              "      <script>\n",
              "        const buttonEl =\n",
              "          document.querySelector('#df-cfd1a19f-c7ae-4037-bec1-18e24f680c9c button.colab-df-convert');\n",
              "        buttonEl.style.display =\n",
              "          google.colab.kernel.accessAllowed ? 'block' : 'none';\n",
              "\n",
              "        async function convertToInteractive(key) {\n",
              "          const element = document.querySelector('#df-cfd1a19f-c7ae-4037-bec1-18e24f680c9c');\n",
              "          const dataTable =\n",
              "            await google.colab.kernel.invokeFunction('convertToInteractive',\n",
              "                                                     [key], {});\n",
              "          if (!dataTable) return;\n",
              "\n",
              "          const docLinkHtml = 'Like what you see? Visit the ' +\n",
              "            '<a target=\"_blank\" href=https://colab.research.google.com/notebooks/data_table.ipynb>data table notebook</a>'\n",
              "            + ' to learn more about interactive tables.';\n",
              "          element.innerHTML = '';\n",
              "          dataTable['output_type'] = 'display_data';\n",
              "          await google.colab.output.renderOutput(dataTable, element);\n",
              "          const docLink = document.createElement('div');\n",
              "          docLink.innerHTML = docLinkHtml;\n",
              "          element.appendChild(docLink);\n",
              "        }\n",
              "      </script>\n",
              "    </div>\n",
              "  </div>\n",
              "  "
            ]
          },
          "metadata": {},
          "execution_count": 31
        }
      ],
      "source": [
        "df"
      ]
    },
    {
      "cell_type": "code",
      "execution_count": 32,
      "metadata": {
        "id": "dibq21JK7-Yc",
        "colab": {
          "base_uri": "https://localhost:8080/"
        },
        "outputId": "4aecc3a9-451d-4e0e-b6e4-76732d54dc8f"
      },
      "outputs": [
        {
          "output_type": "execute_result",
          "data": {
            "text/plain": [
              "Index(['ID', 'Severity', 'Start_Time', 'End_Time', 'Start_Lat', 'Start_Lng',\n",
              "       'End_Lat', 'End_Lng', 'Distance(mi)', 'Description', 'Number', 'Street',\n",
              "       'Side', 'City', 'County', 'State', 'Zipcode', 'Country', 'Timezone',\n",
              "       'Airport_Code', 'Weather_Timestamp', 'Temperature(F)', 'Wind_Chill(F)',\n",
              "       'Humidity(%)', 'Pressure(in)', 'Visibility(mi)', 'Wind_Direction',\n",
              "       'Wind_Speed(mph)', 'Precipitation(in)', 'Weather_Condition', 'Amenity',\n",
              "       'Bump', 'Crossing', 'Give_Way', 'Junction', 'No_Exit', 'Railway',\n",
              "       'Roundabout', 'Station', 'Stop', 'Traffic_Calming', 'Traffic_Signal',\n",
              "       'Turning_Loop', 'Sunrise_Sunset', 'Civil_Twilight', 'Nautical_Twilight',\n",
              "       'Astronomical_Twilight'],\n",
              "      dtype='object')"
            ]
          },
          "metadata": {},
          "execution_count": 32
        }
      ],
      "source": [
        "df.columns"
      ]
    },
    {
      "cell_type": "code",
      "execution_count": 33,
      "metadata": {
        "id": "UQyCP8F18s30",
        "colab": {
          "base_uri": "https://localhost:8080/"
        },
        "outputId": "c55bd026-7075-4e4a-e239-8b2c64e725db"
      },
      "outputs": [
        {
          "output_type": "execute_result",
          "data": {
            "text/plain": [
              "47"
            ]
          },
          "metadata": {},
          "execution_count": 33
        }
      ],
      "source": [
        "len(df.columns)"
      ]
    },
    {
      "cell_type": "code",
      "execution_count": 34,
      "metadata": {
        "id": "pc-HBzHg86Oc",
        "colab": {
          "base_uri": "https://localhost:8080/"
        },
        "outputId": "0364fb41-7a28-46e9-9c28-6762777600a5"
      },
      "outputs": [
        {
          "output_type": "stream",
          "name": "stdout",
          "text": [
            "<class 'pandas.core.frame.DataFrame'>\n",
            "RangeIndex: 2845342 entries, 0 to 2845341\n",
            "Data columns (total 47 columns):\n",
            " #   Column                 Dtype  \n",
            "---  ------                 -----  \n",
            " 0   ID                     object \n",
            " 1   Severity               int64  \n",
            " 2   Start_Time             object \n",
            " 3   End_Time               object \n",
            " 4   Start_Lat              float64\n",
            " 5   Start_Lng              float64\n",
            " 6   End_Lat                float64\n",
            " 7   End_Lng                float64\n",
            " 8   Distance(mi)           float64\n",
            " 9   Description            object \n",
            " 10  Number                 float64\n",
            " 11  Street                 object \n",
            " 12  Side                   object \n",
            " 13  City                   object \n",
            " 14  County                 object \n",
            " 15  State                  object \n",
            " 16  Zipcode                object \n",
            " 17  Country                object \n",
            " 18  Timezone               object \n",
            " 19  Airport_Code           object \n",
            " 20  Weather_Timestamp      object \n",
            " 21  Temperature(F)         float64\n",
            " 22  Wind_Chill(F)          float64\n",
            " 23  Humidity(%)            float64\n",
            " 24  Pressure(in)           float64\n",
            " 25  Visibility(mi)         float64\n",
            " 26  Wind_Direction         object \n",
            " 27  Wind_Speed(mph)        float64\n",
            " 28  Precipitation(in)      float64\n",
            " 29  Weather_Condition      object \n",
            " 30  Amenity                bool   \n",
            " 31  Bump                   bool   \n",
            " 32  Crossing               bool   \n",
            " 33  Give_Way               bool   \n",
            " 34  Junction               bool   \n",
            " 35  No_Exit                bool   \n",
            " 36  Railway                bool   \n",
            " 37  Roundabout             bool   \n",
            " 38  Station                bool   \n",
            " 39  Stop                   bool   \n",
            " 40  Traffic_Calming        bool   \n",
            " 41  Traffic_Signal         bool   \n",
            " 42  Turning_Loop           bool   \n",
            " 43  Sunrise_Sunset         object \n",
            " 44  Civil_Twilight         object \n",
            " 45  Nautical_Twilight      object \n",
            " 46  Astronomical_Twilight  object \n",
            "dtypes: bool(13), float64(13), int64(1), object(20)\n",
            "memory usage: 773.4+ MB\n"
          ]
        }
      ],
      "source": [
        "df.info()"
      ]
    },
    {
      "cell_type": "code",
      "execution_count": 35,
      "metadata": {
        "id": "3C7zx3ec9C-r",
        "colab": {
          "base_uri": "https://localhost:8080/",
          "height": 364
        },
        "outputId": "d1f75099-8569-44b9-af20-db9464c465d8"
      },
      "outputs": [
        {
          "output_type": "execute_result",
          "data": {
            "text/plain": [
              "           Severity     Start_Lat     Start_Lng       End_Lat       End_Lng  \\\n",
              "count  2.845342e+06  2.845342e+06  2.845342e+06  2.845342e+06  2.845342e+06   \n",
              "mean   2.137572e+00  3.624520e+01 -9.711463e+01  3.624532e+01 -9.711439e+01   \n",
              "std    4.787216e-01  5.363797e+00  1.831782e+01  5.363873e+00  1.831763e+01   \n",
              "min    1.000000e+00  2.456603e+01 -1.245481e+02  2.456601e+01 -1.245457e+02   \n",
              "25%    2.000000e+00  3.344517e+01 -1.180331e+02  3.344628e+01 -1.180333e+02   \n",
              "50%    2.000000e+00  3.609861e+01 -9.241808e+01  3.609799e+01 -9.241772e+01   \n",
              "75%    2.000000e+00  4.016024e+01 -8.037243e+01  4.016105e+01 -8.037338e+01   \n",
              "max    4.000000e+00  4.900058e+01 -6.711317e+01  4.907500e+01 -6.710924e+01   \n",
              "\n",
              "       Distance(mi)        Number  Temperature(F)  Wind_Chill(F)  \\\n",
              "count  2.845342e+06  1.101431e+06    2.776068e+06   2.375699e+06   \n",
              "mean   7.026779e-01  8.089408e+03    6.179356e+01   5.965823e+01   \n",
              "std    1.560361e+00  1.836009e+04    1.862263e+01   2.116097e+01   \n",
              "min    0.000000e+00  0.000000e+00   -8.900000e+01  -8.900000e+01   \n",
              "25%    5.200000e-02  1.270000e+03    5.000000e+01   4.600000e+01   \n",
              "50%    2.440000e-01  4.007000e+03    6.400000e+01   6.300000e+01   \n",
              "75%    7.640000e-01  9.567000e+03    7.600000e+01   7.600000e+01   \n",
              "max    1.551860e+02  9.999997e+06    1.960000e+02   1.960000e+02   \n",
              "\n",
              "        Humidity(%)  Pressure(in)  Visibility(mi)  Wind_Speed(mph)  \\\n",
              "count  2.772250e+06  2.786142e+06    2.774796e+06     2.687398e+06   \n",
              "mean   6.436545e+01  2.947234e+01    9.099391e+00     7.395044e+00   \n",
              "std    2.287457e+01  1.045286e+00    2.717546e+00     5.527454e+00   \n",
              "min    1.000000e+00  0.000000e+00    0.000000e+00     0.000000e+00   \n",
              "25%    4.800000e+01  2.931000e+01    1.000000e+01     3.500000e+00   \n",
              "50%    6.700000e+01  2.982000e+01    1.000000e+01     7.000000e+00   \n",
              "75%    8.300000e+01  3.001000e+01    1.000000e+01     1.000000e+01   \n",
              "max    1.000000e+02  5.890000e+01    1.400000e+02     1.087000e+03   \n",
              "\n",
              "       Precipitation(in)  \n",
              "count       2.295884e+06  \n",
              "mean        7.016940e-03  \n",
              "std         9.348831e-02  \n",
              "min         0.000000e+00  \n",
              "25%         0.000000e+00  \n",
              "50%         0.000000e+00  \n",
              "75%         0.000000e+00  \n",
              "max         2.400000e+01  "
            ],
            "text/html": [
              "\n",
              "  <div id=\"df-0011c3bf-1251-45d0-8a42-d366902a8c97\">\n",
              "    <div class=\"colab-df-container\">\n",
              "      <div>\n",
              "<style scoped>\n",
              "    .dataframe tbody tr th:only-of-type {\n",
              "        vertical-align: middle;\n",
              "    }\n",
              "\n",
              "    .dataframe tbody tr th {\n",
              "        vertical-align: top;\n",
              "    }\n",
              "\n",
              "    .dataframe thead th {\n",
              "        text-align: right;\n",
              "    }\n",
              "</style>\n",
              "<table border=\"1\" class=\"dataframe\">\n",
              "  <thead>\n",
              "    <tr style=\"text-align: right;\">\n",
              "      <th></th>\n",
              "      <th>Severity</th>\n",
              "      <th>Start_Lat</th>\n",
              "      <th>Start_Lng</th>\n",
              "      <th>End_Lat</th>\n",
              "      <th>End_Lng</th>\n",
              "      <th>Distance(mi)</th>\n",
              "      <th>Number</th>\n",
              "      <th>Temperature(F)</th>\n",
              "      <th>Wind_Chill(F)</th>\n",
              "      <th>Humidity(%)</th>\n",
              "      <th>Pressure(in)</th>\n",
              "      <th>Visibility(mi)</th>\n",
              "      <th>Wind_Speed(mph)</th>\n",
              "      <th>Precipitation(in)</th>\n",
              "    </tr>\n",
              "  </thead>\n",
              "  <tbody>\n",
              "    <tr>\n",
              "      <th>count</th>\n",
              "      <td>2.845342e+06</td>\n",
              "      <td>2.845342e+06</td>\n",
              "      <td>2.845342e+06</td>\n",
              "      <td>2.845342e+06</td>\n",
              "      <td>2.845342e+06</td>\n",
              "      <td>2.845342e+06</td>\n",
              "      <td>1.101431e+06</td>\n",
              "      <td>2.776068e+06</td>\n",
              "      <td>2.375699e+06</td>\n",
              "      <td>2.772250e+06</td>\n",
              "      <td>2.786142e+06</td>\n",
              "      <td>2.774796e+06</td>\n",
              "      <td>2.687398e+06</td>\n",
              "      <td>2.295884e+06</td>\n",
              "    </tr>\n",
              "    <tr>\n",
              "      <th>mean</th>\n",
              "      <td>2.137572e+00</td>\n",
              "      <td>3.624520e+01</td>\n",
              "      <td>-9.711463e+01</td>\n",
              "      <td>3.624532e+01</td>\n",
              "      <td>-9.711439e+01</td>\n",
              "      <td>7.026779e-01</td>\n",
              "      <td>8.089408e+03</td>\n",
              "      <td>6.179356e+01</td>\n",
              "      <td>5.965823e+01</td>\n",
              "      <td>6.436545e+01</td>\n",
              "      <td>2.947234e+01</td>\n",
              "      <td>9.099391e+00</td>\n",
              "      <td>7.395044e+00</td>\n",
              "      <td>7.016940e-03</td>\n",
              "    </tr>\n",
              "    <tr>\n",
              "      <th>std</th>\n",
              "      <td>4.787216e-01</td>\n",
              "      <td>5.363797e+00</td>\n",
              "      <td>1.831782e+01</td>\n",
              "      <td>5.363873e+00</td>\n",
              "      <td>1.831763e+01</td>\n",
              "      <td>1.560361e+00</td>\n",
              "      <td>1.836009e+04</td>\n",
              "      <td>1.862263e+01</td>\n",
              "      <td>2.116097e+01</td>\n",
              "      <td>2.287457e+01</td>\n",
              "      <td>1.045286e+00</td>\n",
              "      <td>2.717546e+00</td>\n",
              "      <td>5.527454e+00</td>\n",
              "      <td>9.348831e-02</td>\n",
              "    </tr>\n",
              "    <tr>\n",
              "      <th>min</th>\n",
              "      <td>1.000000e+00</td>\n",
              "      <td>2.456603e+01</td>\n",
              "      <td>-1.245481e+02</td>\n",
              "      <td>2.456601e+01</td>\n",
              "      <td>-1.245457e+02</td>\n",
              "      <td>0.000000e+00</td>\n",
              "      <td>0.000000e+00</td>\n",
              "      <td>-8.900000e+01</td>\n",
              "      <td>-8.900000e+01</td>\n",
              "      <td>1.000000e+00</td>\n",
              "      <td>0.000000e+00</td>\n",
              "      <td>0.000000e+00</td>\n",
              "      <td>0.000000e+00</td>\n",
              "      <td>0.000000e+00</td>\n",
              "    </tr>\n",
              "    <tr>\n",
              "      <th>25%</th>\n",
              "      <td>2.000000e+00</td>\n",
              "      <td>3.344517e+01</td>\n",
              "      <td>-1.180331e+02</td>\n",
              "      <td>3.344628e+01</td>\n",
              "      <td>-1.180333e+02</td>\n",
              "      <td>5.200000e-02</td>\n",
              "      <td>1.270000e+03</td>\n",
              "      <td>5.000000e+01</td>\n",
              "      <td>4.600000e+01</td>\n",
              "      <td>4.800000e+01</td>\n",
              "      <td>2.931000e+01</td>\n",
              "      <td>1.000000e+01</td>\n",
              "      <td>3.500000e+00</td>\n",
              "      <td>0.000000e+00</td>\n",
              "    </tr>\n",
              "    <tr>\n",
              "      <th>50%</th>\n",
              "      <td>2.000000e+00</td>\n",
              "      <td>3.609861e+01</td>\n",
              "      <td>-9.241808e+01</td>\n",
              "      <td>3.609799e+01</td>\n",
              "      <td>-9.241772e+01</td>\n",
              "      <td>2.440000e-01</td>\n",
              "      <td>4.007000e+03</td>\n",
              "      <td>6.400000e+01</td>\n",
              "      <td>6.300000e+01</td>\n",
              "      <td>6.700000e+01</td>\n",
              "      <td>2.982000e+01</td>\n",
              "      <td>1.000000e+01</td>\n",
              "      <td>7.000000e+00</td>\n",
              "      <td>0.000000e+00</td>\n",
              "    </tr>\n",
              "    <tr>\n",
              "      <th>75%</th>\n",
              "      <td>2.000000e+00</td>\n",
              "      <td>4.016024e+01</td>\n",
              "      <td>-8.037243e+01</td>\n",
              "      <td>4.016105e+01</td>\n",
              "      <td>-8.037338e+01</td>\n",
              "      <td>7.640000e-01</td>\n",
              "      <td>9.567000e+03</td>\n",
              "      <td>7.600000e+01</td>\n",
              "      <td>7.600000e+01</td>\n",
              "      <td>8.300000e+01</td>\n",
              "      <td>3.001000e+01</td>\n",
              "      <td>1.000000e+01</td>\n",
              "      <td>1.000000e+01</td>\n",
              "      <td>0.000000e+00</td>\n",
              "    </tr>\n",
              "    <tr>\n",
              "      <th>max</th>\n",
              "      <td>4.000000e+00</td>\n",
              "      <td>4.900058e+01</td>\n",
              "      <td>-6.711317e+01</td>\n",
              "      <td>4.907500e+01</td>\n",
              "      <td>-6.710924e+01</td>\n",
              "      <td>1.551860e+02</td>\n",
              "      <td>9.999997e+06</td>\n",
              "      <td>1.960000e+02</td>\n",
              "      <td>1.960000e+02</td>\n",
              "      <td>1.000000e+02</td>\n",
              "      <td>5.890000e+01</td>\n",
              "      <td>1.400000e+02</td>\n",
              "      <td>1.087000e+03</td>\n",
              "      <td>2.400000e+01</td>\n",
              "    </tr>\n",
              "  </tbody>\n",
              "</table>\n",
              "</div>\n",
              "      <button class=\"colab-df-convert\" onclick=\"convertToInteractive('df-0011c3bf-1251-45d0-8a42-d366902a8c97')\"\n",
              "              title=\"Convert this dataframe to an interactive table.\"\n",
              "              style=\"display:none;\">\n",
              "        \n",
              "  <svg xmlns=\"http://www.w3.org/2000/svg\" height=\"24px\"viewBox=\"0 0 24 24\"\n",
              "       width=\"24px\">\n",
              "    <path d=\"M0 0h24v24H0V0z\" fill=\"none\"/>\n",
              "    <path d=\"M18.56 5.44l.94 2.06.94-2.06 2.06-.94-2.06-.94-.94-2.06-.94 2.06-2.06.94zm-11 1L8.5 8.5l.94-2.06 2.06-.94-2.06-.94L8.5 2.5l-.94 2.06-2.06.94zm10 10l.94 2.06.94-2.06 2.06-.94-2.06-.94-.94-2.06-.94 2.06-2.06.94z\"/><path d=\"M17.41 7.96l-1.37-1.37c-.4-.4-.92-.59-1.43-.59-.52 0-1.04.2-1.43.59L10.3 9.45l-7.72 7.72c-.78.78-.78 2.05 0 2.83L4 21.41c.39.39.9.59 1.41.59.51 0 1.02-.2 1.41-.59l7.78-7.78 2.81-2.81c.8-.78.8-2.07 0-2.86zM5.41 20L4 18.59l7.72-7.72 1.47 1.35L5.41 20z\"/>\n",
              "  </svg>\n",
              "      </button>\n",
              "      \n",
              "  <style>\n",
              "    .colab-df-container {\n",
              "      display:flex;\n",
              "      flex-wrap:wrap;\n",
              "      gap: 12px;\n",
              "    }\n",
              "\n",
              "    .colab-df-convert {\n",
              "      background-color: #E8F0FE;\n",
              "      border: none;\n",
              "      border-radius: 50%;\n",
              "      cursor: pointer;\n",
              "      display: none;\n",
              "      fill: #1967D2;\n",
              "      height: 32px;\n",
              "      padding: 0 0 0 0;\n",
              "      width: 32px;\n",
              "    }\n",
              "\n",
              "    .colab-df-convert:hover {\n",
              "      background-color: #E2EBFA;\n",
              "      box-shadow: 0px 1px 2px rgba(60, 64, 67, 0.3), 0px 1px 3px 1px rgba(60, 64, 67, 0.15);\n",
              "      fill: #174EA6;\n",
              "    }\n",
              "\n",
              "    [theme=dark] .colab-df-convert {\n",
              "      background-color: #3B4455;\n",
              "      fill: #D2E3FC;\n",
              "    }\n",
              "\n",
              "    [theme=dark] .colab-df-convert:hover {\n",
              "      background-color: #434B5C;\n",
              "      box-shadow: 0px 1px 3px 1px rgba(0, 0, 0, 0.15);\n",
              "      filter: drop-shadow(0px 1px 2px rgba(0, 0, 0, 0.3));\n",
              "      fill: #FFFFFF;\n",
              "    }\n",
              "  </style>\n",
              "\n",
              "      <script>\n",
              "        const buttonEl =\n",
              "          document.querySelector('#df-0011c3bf-1251-45d0-8a42-d366902a8c97 button.colab-df-convert');\n",
              "        buttonEl.style.display =\n",
              "          google.colab.kernel.accessAllowed ? 'block' : 'none';\n",
              "\n",
              "        async function convertToInteractive(key) {\n",
              "          const element = document.querySelector('#df-0011c3bf-1251-45d0-8a42-d366902a8c97');\n",
              "          const dataTable =\n",
              "            await google.colab.kernel.invokeFunction('convertToInteractive',\n",
              "                                                     [key], {});\n",
              "          if (!dataTable) return;\n",
              "\n",
              "          const docLinkHtml = 'Like what you see? Visit the ' +\n",
              "            '<a target=\"_blank\" href=https://colab.research.google.com/notebooks/data_table.ipynb>data table notebook</a>'\n",
              "            + ' to learn more about interactive tables.';\n",
              "          element.innerHTML = '';\n",
              "          dataTable['output_type'] = 'display_data';\n",
              "          await google.colab.output.renderOutput(dataTable, element);\n",
              "          const docLink = document.createElement('div');\n",
              "          docLink.innerHTML = docLinkHtml;\n",
              "          element.appendChild(docLink);\n",
              "        }\n",
              "      </script>\n",
              "    </div>\n",
              "  </div>\n",
              "  "
            ]
          },
          "metadata": {},
          "execution_count": 35
        }
      ],
      "source": [
        "df.describe()"
      ]
    },
    {
      "cell_type": "code",
      "execution_count": 36,
      "metadata": {
        "id": "refqbki1AkTU",
        "colab": {
          "base_uri": "https://localhost:8080/"
        },
        "outputId": "0f3198bb-3316-4231-948c-32ceef5d1b2b"
      },
      "outputs": [
        {
          "output_type": "execute_result",
          "data": {
            "text/plain": [
              "14"
            ]
          },
          "metadata": {},
          "execution_count": 36
        }
      ],
      "source": [
        "numerics = ['int16','int32','int64','float16','float32','float64']\n",
        "\n",
        "numeric_df = df.select_dtypes(include=numerics)\n",
        "len(numeric_df.columns)"
      ]
    },
    {
      "cell_type": "markdown",
      "metadata": {
        "id": "2BpVXqcTFHWZ"
      },
      "source": [
        "Percentage of missing values per column"
      ]
    },
    {
      "cell_type": "code",
      "execution_count": 37,
      "metadata": {
        "colab": {
          "base_uri": "https://localhost:8080/"
        },
        "id": "hRL-gptH8TT9",
        "outputId": "7307ecc5-07a8-449e-88b4-2a5884b57b12"
      },
      "outputs": [
        {
          "output_type": "execute_result",
          "data": {
            "text/plain": [
              "Number                   6.129003e-01\n",
              "Precipitation(in)        1.931079e-01\n",
              "Wind_Chill(F)            1.650568e-01\n",
              "Wind_Speed(mph)          5.550967e-02\n",
              "Wind_Direction           2.592834e-02\n",
              "Humidity(%)              2.568830e-02\n",
              "Weather_Condition        2.482514e-02\n",
              "Visibility(mi)           2.479350e-02\n",
              "Temperature(F)           2.434646e-02\n",
              "Pressure(in)             2.080593e-02\n",
              "Weather_Timestamp        1.783125e-02\n",
              "Airport_Code             3.356011e-03\n",
              "Timezone                 1.285961e-03\n",
              "Nautical_Twilight        1.007612e-03\n",
              "Civil_Twilight           1.007612e-03\n",
              "Sunrise_Sunset           1.007612e-03\n",
              "Astronomical_Twilight    1.007612e-03\n",
              "Zipcode                  4.635647e-04\n",
              "City                     4.814887e-05\n",
              "Street                   7.029032e-07\n",
              "Country                  0.000000e+00\n",
              "Junction                 0.000000e+00\n",
              "Start_Time               0.000000e+00\n",
              "End_Time                 0.000000e+00\n",
              "Start_Lat                0.000000e+00\n",
              "Turning_Loop             0.000000e+00\n",
              "Traffic_Signal           0.000000e+00\n",
              "Traffic_Calming          0.000000e+00\n",
              "Stop                     0.000000e+00\n",
              "Station                  0.000000e+00\n",
              "Roundabout               0.000000e+00\n",
              "Railway                  0.000000e+00\n",
              "No_Exit                  0.000000e+00\n",
              "Crossing                 0.000000e+00\n",
              "Give_Way                 0.000000e+00\n",
              "Bump                     0.000000e+00\n",
              "Amenity                  0.000000e+00\n",
              "Start_Lng                0.000000e+00\n",
              "End_Lat                  0.000000e+00\n",
              "End_Lng                  0.000000e+00\n",
              "Distance(mi)             0.000000e+00\n",
              "Description              0.000000e+00\n",
              "Severity                 0.000000e+00\n",
              "Side                     0.000000e+00\n",
              "County                   0.000000e+00\n",
              "State                    0.000000e+00\n",
              "ID                       0.000000e+00\n",
              "dtype: float64"
            ]
          },
          "metadata": {},
          "execution_count": 37
        }
      ],
      "source": [
        "missing_percentages = df.isna().sum().sort_values(ascending=False) / len(df)\n",
        "missing_percentages"
      ]
    },
    {
      "cell_type": "code",
      "source": [
        "missing_percentages[missing_percentages != 0]"
      ],
      "metadata": {
        "colab": {
          "base_uri": "https://localhost:8080/"
        },
        "id": "j-k9lb_ga5Pl",
        "outputId": "4794cc8e-cf3a-474a-b7e2-f72e0c6955c9"
      },
      "execution_count": 38,
      "outputs": [
        {
          "output_type": "execute_result",
          "data": {
            "text/plain": [
              "Number                   6.129003e-01\n",
              "Precipitation(in)        1.931079e-01\n",
              "Wind_Chill(F)            1.650568e-01\n",
              "Wind_Speed(mph)          5.550967e-02\n",
              "Wind_Direction           2.592834e-02\n",
              "Humidity(%)              2.568830e-02\n",
              "Weather_Condition        2.482514e-02\n",
              "Visibility(mi)           2.479350e-02\n",
              "Temperature(F)           2.434646e-02\n",
              "Pressure(in)             2.080593e-02\n",
              "Weather_Timestamp        1.783125e-02\n",
              "Airport_Code             3.356011e-03\n",
              "Timezone                 1.285961e-03\n",
              "Nautical_Twilight        1.007612e-03\n",
              "Civil_Twilight           1.007612e-03\n",
              "Sunrise_Sunset           1.007612e-03\n",
              "Astronomical_Twilight    1.007612e-03\n",
              "Zipcode                  4.635647e-04\n",
              "City                     4.814887e-05\n",
              "Street                   7.029032e-07\n",
              "dtype: float64"
            ]
          },
          "metadata": {},
          "execution_count": 38
        }
      ]
    },
    {
      "cell_type": "code",
      "source": [
        "type(missing_percentages)"
      ],
      "metadata": {
        "colab": {
          "base_uri": "https://localhost:8080/"
        },
        "id": "wpA5L6PpaRzx",
        "outputId": "14f051d2-8183-4739-dca8-b2e25dd3e4b4"
      },
      "execution_count": 39,
      "outputs": [
        {
          "output_type": "execute_result",
          "data": {
            "text/plain": [
              "pandas.core.series.Series"
            ]
          },
          "metadata": {},
          "execution_count": 39
        }
      ]
    },
    {
      "cell_type": "code",
      "execution_count": 40,
      "metadata": {
        "id": "Lba0cV8x8T_V",
        "colab": {
          "base_uri": "https://localhost:8080/",
          "height": 282
        },
        "outputId": "0f11ed89-01a0-4192-d371-5dd8fa612cab"
      },
      "outputs": [
        {
          "output_type": "execute_result",
          "data": {
            "text/plain": [
              "<Axes: >"
            ]
          },
          "metadata": {},
          "execution_count": 40
        },
        {
          "output_type": "display_data",
          "data": {
            "text/plain": [
              "<Figure size 432x288 with 1 Axes>"
            ],
            "image/png": "[encoded data removed]"
          },
          "metadata": {}
        }
      ],
      "source": [
        "missing_percentages[missing_percentages != 0].plot(kind='barh')"
      ]
    },
    {
      "cell_type": "markdown",
      "source": [
        "Remove columns that you don't want to use."
      ],
      "metadata": {
        "id": "15wf3GoamA4D"
      }
    },
    {
      "cell_type": "code",
      "source": [],
      "metadata": {
        "id": "HBGwrElamP0S"
      },
      "execution_count": 40,
      "outputs": []
    },
    {
      "cell_type": "code",
      "source": [],
      "metadata": {
        "id": "vfX98VvnmPGX"
      },
      "execution_count": 40,
      "outputs": []
    },
    {
      "cell_type": "markdown",
      "metadata": {
        "id": "sf6ImojVBJON"
      },
      "source": [
        "## Exploratory Analysis and Visualization\n",
        "\n",
        "Columns we'll anayze\n",
        "\n",
        "1. City\n",
        "2. Start Time\n",
        "3. Start Lat, Start Lng\n",
        "4. Temperature\n",
        "5.Weather Condition"
      ]
    },
    {
      "cell_type": "code",
      "source": [
        "df.columns"
      ],
      "metadata": {
        "colab": {
          "base_uri": "https://localhost:8080/"
        },
        "id": "WIuvzhkqlXCs",
        "outputId": "a8ad53c2-1dba-4c70-adc0-11ce8eb583f2"
      },
      "execution_count": 41,
      "outputs": [
        {
          "output_type": "execute_result",
          "data": {
            "text/plain": [
              "Index(['ID', 'Severity', 'Start_Time', 'End_Time', 'Start_Lat', 'Start_Lng',\n",
              "       'End_Lat', 'End_Lng', 'Distance(mi)', 'Description', 'Number', 'Street',\n",
              "       'Side', 'City', 'County', 'State', 'Zipcode', 'Country', 'Timezone',\n",
              "       'Airport_Code', 'Weather_Timestamp', 'Temperature(F)', 'Wind_Chill(F)',\n",
              "       'Humidity(%)', 'Pressure(in)', 'Visibility(mi)', 'Wind_Direction',\n",
              "       'Wind_Speed(mph)', 'Precipitation(in)', 'Weather_Condition', 'Amenity',\n",
              "       'Bump', 'Crossing', 'Give_Way', 'Junction', 'No_Exit', 'Railway',\n",
              "       'Roundabout', 'Station', 'Stop', 'Traffic_Calming', 'Traffic_Signal',\n",
              "       'Turning_Loop', 'Sunrise_Sunset', 'Civil_Twilight', 'Nautical_Twilight',\n",
              "       'Astronomical_Twilight'],\n",
              "      dtype='object')"
            ]
          },
          "metadata": {},
          "execution_count": 41
        }
      ]
    },
    {
      "cell_type": "markdown",
      "source": [
        "### City"
      ],
      "metadata": {
        "id": "scYUv22bX2Sp"
      }
    },
    {
      "cell_type": "code",
      "execution_count": 42,
      "metadata": {
        "id": "9H0jLP-iBYx1",
        "colab": {
          "base_uri": "https://localhost:8080/"
        },
        "outputId": "d5d5225f-d997-4761-f1ac-112506912845"
      },
      "outputs": [
        {
          "output_type": "execute_result",
          "data": {
            "text/plain": [
              "0               Dublin\n",
              "1               Dayton\n",
              "2           Cincinnati\n",
              "3                Akron\n",
              "4           Cincinnati\n",
              "              ...     \n",
              "2845337      Riverside\n",
              "2845338      San Diego\n",
              "2845339         Orange\n",
              "2845340    Culver City\n",
              "2845341       Highland\n",
              "Name: City, Length: 2845342, dtype: object"
            ]
          },
          "metadata": {},
          "execution_count": 42
        }
      ],
      "source": [
        "df.City"
      ]
    },
    {
      "cell_type": "code",
      "execution_count": 43,
      "metadata": {
        "id": "QqvXNoZiBaCB",
        "colab": {
          "base_uri": "https://localhost:8080/"
        },
        "outputId": "375dd4b2-a017-4eda-db71-7ca8af7f33d3"
      },
      "outputs": [
        {
          "output_type": "execute_result",
          "data": {
            "text/plain": [
              "11682"
            ]
          },
          "metadata": {},
          "execution_count": 43
        }
      ],
      "source": [
        " cities = df.City.unique()\n",
        " len(cities)"
      ]
    },
    {
      "cell_type": "code",
      "execution_count": 44,
      "metadata": {
        "id": "0nBNjUvmBaKI",
        "colab": {
          "base_uri": "https://localhost:8080/"
        },
        "outputId": "0a8960cc-6fc5-4291-baaa-103ddd1ae05d"
      },
      "outputs": [
        {
          "output_type": "execute_result",
          "data": {
            "text/plain": [
              "Miami                           106966\n",
              "Los Angeles                      68956\n",
              "Orlando                          54691\n",
              "Dallas                           41979\n",
              "Houston                          39448\n",
              "                                 ...  \n",
              "Ridgedale                            1\n",
              "Sekiu                                1\n",
              "Wooldridge                           1\n",
              "Bullock                              1\n",
              "American Fork-Pleasant Grove         1\n",
              "Name: City, Length: 11681, dtype: int64"
            ]
          },
          "metadata": {},
          "execution_count": 44
        }
      ],
      "source": [
        "cities_by_accident = df.City.value_counts()\n",
        "cities_by_accident"
      ]
    },
    {
      "cell_type": "code",
      "execution_count": 45,
      "metadata": {
        "id": "cpYUHIQEBaRX",
        "colab": {
          "base_uri": "https://localhost:8080/"
        },
        "outputId": "d393859d-6f4a-45ce-a154-e07eb236a109"
      },
      "outputs": [
        {
          "output_type": "execute_result",
          "data": {
            "text/plain": [
              "Miami           106966\n",
              "Los Angeles      68956\n",
              "Orlando          54691\n",
              "Dallas           41979\n",
              "Houston          39448\n",
              "Charlotte        33152\n",
              "Sacramento       32559\n",
              "San Diego        26627\n",
              "Raleigh          22840\n",
              "Minneapolis      22768\n",
              "Portland         20944\n",
              "Nashville        20267\n",
              "Austin           18301\n",
              "Baton Rouge      18182\n",
              "Phoenix          17143\n",
              "Saint Paul       16869\n",
              "New Orleans      16251\n",
              "Atlanta          15622\n",
              "Jacksonville     14967\n",
              "Richmond         14349\n",
              "Name: City, dtype: int64"
            ]
          },
          "metadata": {},
          "execution_count": 45
        }
      ],
      "source": [
        "cities_by_accident[:20]"
      ]
    },
    {
      "cell_type": "code",
      "source": [
        "type(cities_by_accident)"
      ],
      "metadata": {
        "colab": {
          "base_uri": "https://localhost:8080/"
        },
        "id": "WCNt2V9cxMqG",
        "outputId": "6220f857-7beb-4c7a-c035-3f2e1c1cf5ce"
      },
      "execution_count": 46,
      "outputs": [
        {
          "output_type": "execute_result",
          "data": {
            "text/plain": [
              "pandas.core.series.Series"
            ]
          },
          "metadata": {},
          "execution_count": 46
        }
      ]
    },
    {
      "cell_type": "code",
      "source": [
        "cities_by_accident.plot(kind='barh')"
      ],
      "metadata": {
        "colab": {
          "base_uri": "https://localhost:8080/",
          "height": 286
        },
        "id": "rHTkBPhatSJZ",
        "outputId": "bcc0ec2a-f5ab-4908-9c6b-acf7f404736c"
      },
      "execution_count": 47,
      "outputs": [
        {
          "output_type": "execute_result",
          "data": {
            "text/plain": [
              "<Axes: >"
            ]
          },
          "metadata": {},
          "execution_count": 47
        },
        {
          "output_type": "display_data",
          "data": {
            "text/plain": [
              "<Figure size 432x288 with 1 Axes>"
            ],
            "image/png": "[encoded data removed]"
          },
          "metadata": {}
        }
      ]
    },
    {
      "cell_type": "code",
      "source": [
        " cities_by_accident[:20].plot(kind='barh')"
      ],
      "metadata": {
        "colab": {
          "base_uri": "https://localhost:8080/",
          "height": 282
        },
        "id": "jYKEyUoatSGT",
        "outputId": "3d6f04c5-eeda-4859-d93e-f96c93b10f70"
      },
      "execution_count": 48,
      "outputs": [
        {
          "output_type": "execute_result",
          "data": {
            "text/plain": [
              "<Axes: >"
            ]
          },
          "metadata": {},
          "execution_count": 48
        },
        {
          "output_type": "display_data",
          "data": {
            "text/plain": [
              "<Figure size 432x288 with 1 Axes>"
            ],
            "image/png": "[encoded data removed]"
          },
          "metadata": {}
        }
      ]
    },
    {
      "cell_type": "code",
      "source": [
        "import seaborn as sns\n",
        "sns.set_style(\"darkgrid\")"
      ],
      "metadata": {
        "id": "GavJN6UstSCx"
      },
      "execution_count": 49,
      "outputs": []
    },
    {
      "cell_type": "code",
      "source": [
        "sns.histplot(cities_by_accident, log_scale=True)"
      ],
      "metadata": {
        "colab": {
          "base_uri": "https://localhost:8080/",
          "height": 300
        },
        "id": "1BJ35Iv2wMM0",
        "outputId": "ce55bd1b-8f02-40a9-b220-dfbca9451ad9"
      },
      "execution_count": 57,
      "outputs": [
        {
          "output_type": "execute_result",
          "data": {
            "text/plain": [
              "<Axes: xlabel='City', ylabel='Count'>"
            ]
          },
          "metadata": {},
          "execution_count": 57
        },
        {
          "output_type": "display_data",
          "data": {
            "text/plain": [
              "<Figure size 432x288 with 1 Axes>"
            ],
            "image/png": "[encoded data removed]"
          },
          "metadata": {}
        }
      ]
    },
    {
      "cell_type": "code",
      "source": [
        "cities_by_accident[cities_by_accident == 1]"
      ],
      "metadata": {
        "colab": {
          "base_uri": "https://localhost:8080/"
        },
        "id": "LtT2BjWUUo4z",
        "outputId": "1d529a0a-f074-4ac2-95ad-3876c5b941d7"
      },
      "execution_count": 60,
      "outputs": [
        {
          "output_type": "execute_result",
          "data": {
            "text/plain": [
              "Carney                          1\n",
              "Waverly Hall                    1\n",
              "Center Sandwich                 1\n",
              "Glen Flora                      1\n",
              "Sulphur Springs                 1\n",
              "                               ..\n",
              "Ridgedale                       1\n",
              "Sekiu                           1\n",
              "Wooldridge                      1\n",
              "Bullock                         1\n",
              "American Fork-Pleasant Grove    1\n",
              "Name: City, Length: 1110, dtype: int64"
            ]
          },
          "metadata": {},
          "execution_count": 60
        }
      ]
    },
    {
      "cell_type": "markdown",
      "source": [
        "### Start Time"
      ],
      "metadata": {
        "id": "HyruxWnyXjBc"
      }
    },
    {
      "cell_type": "code",
      "source": [
        "df.Start_Time"
      ],
      "metadata": {
        "colab": {
          "base_uri": "https://localhost:8080/"
        },
        "id": "o2Nuoe0OUowq",
        "outputId": "a225a614-0888-466c-e2c3-e54de39a56fa"
      },
      "execution_count": 62,
      "outputs": [
        {
          "output_type": "execute_result",
          "data": {
            "text/plain": [
              "0          2016-02-08 00:37:08\n",
              "1          2016-02-08 05:56:20\n",
              "2          2016-02-08 06:15:39\n",
              "3          2016-02-08 06:51:45\n",
              "4          2016-02-08 07:53:43\n",
              "                  ...         \n",
              "2845337    2019-08-23 18:03:25\n",
              "2845338    2019-08-23 19:11:30\n",
              "2845339    2019-08-23 19:00:21\n",
              "2845340    2019-08-23 19:00:21\n",
              "2845341    2019-08-23 18:52:06\n",
              "Name: Start_Time, Length: 2845342, dtype: object"
            ]
          },
          "metadata": {},
          "execution_count": 62
        }
      ]
    },
    {
      "cell_type": "code",
      "source": [
        "df.Start_Time[0]"
      ],
      "metadata": {
        "colab": {
          "base_uri": "https://localhost:8080/",
          "height": 36
        },
        "id": "kAWksBX0Un4U",
        "outputId": "9426272d-753b-4086-a205-bd3d1160dacf"
      },
      "execution_count": 63,
      "outputs": [
        {
          "output_type": "execute_result",
          "data": {
            "text/plain": [
              "'2016-02-08 00:37:08'"
            ],
            "application/vnd.google.colaboratory.intrinsic+json": {
              "type": "string"
            }
          },
          "metadata": {},
          "execution_count": 63
        }
      ]
    },
    {
      "cell_type": "code",
      "source": [
        "df.Start_Time = pd.to_datetime(df.Start_Time)"
      ],
      "metadata": {
        "id": "_5QwFT1VYU4i"
      },
      "execution_count": 65,
      "outputs": []
    },
    {
      "cell_type": "code",
      "source": [
        "sns.distplot(df.Start_Time.dt.hour, bins=24)"
      ],
      "metadata": {
        "colab": {
          "base_uri": "https://localhost:8080/",
          "height": 488
        },
        "id": "yIk_qHQ3YU0q",
        "outputId": "be483026-19e8-4f5b-f1fb-fb0e23bc6518"
      },
      "execution_count": 74,
      "outputs": [
        {
          "output_type": "stream",
          "name": "stderr",
          "text": [
            "<ipython-input-74-6779c193c168>:1: UserWarning: \n",
            "\n",
            "`distplot` is a deprecated function and will be removed in seaborn v0.14.0.\n",
            "\n",
            "Please adapt your code to use either `displot` (a figure-level function with\n",
            "similar flexibility) or `histplot` (an axes-level function for histograms).\n",
            "\n",
            "For a guide to updating your code to use the new functions, please see\n",
            "https://gist.github.com/mwaskom/de44147ed2974457ad6372750bbe5751\n",
            "\n",
            "  sns.distplot(df.Start_Time.dt.hour, bins=24)\n"
          ]
        },
        {
          "output_type": "execute_result",
          "data": {
            "text/plain": [
              "<Axes: xlabel='Start_Time', ylabel='Density'>"
            ]
          },
          "metadata": {},
          "execution_count": 74
        },
        {
          "output_type": "display_data",
          "data": {
            "text/plain": [
              "<Figure size 432x288 with 1 Axes>"
            ],
            "image/png": "[encoded data removed]"
          },
          "metadata": {}
        }
      ]
    },
    {
      "cell_type": "markdown",
      "source": [
        "- Figure out how to show percentages"
      ],
      "metadata": {
        "id": "IdFNUovDh-u4"
      }
    },
    {
      "cell_type": "code",
      "source": [
        "sns.distplot(df.Start_Time.dt.hour, bins=24, kde=False)"
      ],
      "metadata": {
        "colab": {
          "base_uri": "https://localhost:8080/",
          "height": 488
        },
        "id": "AwNpdDVab4xD",
        "outputId": "3bb52fd3-29fb-4e7a-ec18-63462fd80187"
      },
      "execution_count": 75,
      "outputs": [
        {
          "output_type": "stream",
          "name": "stderr",
          "text": [
            "<ipython-input-75-26281e4d20c4>:1: UserWarning: \n",
            "\n",
            "`distplot` is a deprecated function and will be removed in seaborn v0.14.0.\n",
            "\n",
            "Please adapt your code to use either `displot` (a figure-level function with\n",
            "similar flexibility) or `histplot` (an axes-level function for histograms).\n",
            "\n",
            "For a guide to updating your code to use the new functions, please see\n",
            "https://gist.github.com/mwaskom/de44147ed2974457ad6372750bbe5751\n",
            "\n",
            "  sns.distplot(df.Start_Time.dt.hour, bins=24, kde=False)\n"
          ]
        },
        {
          "output_type": "execute_result",
          "data": {
            "text/plain": [
              "<Axes: xlabel='Start_Time'>"
            ]
          },
          "metadata": {},
          "execution_count": 75
        },
        {
          "output_type": "display_data",
          "data": {
            "text/plain": [
              "<Figure size 432x288 with 1 Axes>"
            ],
            "image/png": "[encoded data removed]"
          },
          "metadata": {}
        }
      ]
    },
    {
      "cell_type": "code",
      "source": [
        "sns.distplot(df.Start_Time.dt.hour, bins=24, kde=False, norm_hist=True)"
      ],
      "metadata": {
        "colab": {
          "base_uri": "https://localhost:8080/",
          "height": 488
        },
        "id": "EE0TTsDVb4kD",
        "outputId": "241cf17c-0b9c-4260-a2d6-8a3ef1c22ef0"
      },
      "execution_count": 76,
      "outputs": [
        {
          "output_type": "stream",
          "name": "stderr",
          "text": [
            "<ipython-input-76-cecb2f6b7498>:1: UserWarning: \n",
            "\n",
            "`distplot` is a deprecated function and will be removed in seaborn v0.14.0.\n",
            "\n",
            "Please adapt your code to use either `displot` (a figure-level function with\n",
            "similar flexibility) or `histplot` (an axes-level function for histograms).\n",
            "\n",
            "For a guide to updating your code to use the new functions, please see\n",
            "https://gist.github.com/mwaskom/de44147ed2974457ad6372750bbe5751\n",
            "\n",
            "  sns.distplot(df.Start_Time.dt.hour, bins=24, kde=False, norm_hist=True)\n"
          ]
        },
        {
          "output_type": "execute_result",
          "data": {
            "text/plain": [
              "<Axes: xlabel='Start_Time'>"
            ]
          },
          "metadata": {},
          "execution_count": 76
        },
        {
          "output_type": "display_data",
          "data": {
            "text/plain": [
              "<Figure size 432x288 with 1 Axes>"
            ],
            "image/png": "[encoded data removed]"
          },
          "metadata": {}
        }
      ]
    },
    {
      "cell_type": "markdown",
      "source": [
        "- A high percentage of accidents occur between 6 am to 10 am (probably people in a hurry to get to work)\n",
        "- Next highest percentage is 3 pm to 6 pm."
      ],
      "metadata": {
        "id": "BCEk4dd4j9sZ"
      }
    },
    {
      "cell_type": "code",
      "source": [
        "sns.distplot(df.Start_Time.dt.dayofweek, bins=7, kde=False, norm_hist=True)"
      ],
      "metadata": {
        "colab": {
          "base_uri": "https://localhost:8080/",
          "height": 488
        },
        "id": "OAZqwF--b4by",
        "outputId": "bc5d9a0b-ca05-4bfb-f8f5-2a0e53c94845"
      },
      "execution_count": 79,
      "outputs": [
        {
          "output_type": "stream",
          "name": "stderr",
          "text": [
            "<ipython-input-79-019c7ea578c3>:1: UserWarning: \n",
            "\n",
            "`distplot` is a deprecated function and will be removed in seaborn v0.14.0.\n",
            "\n",
            "Please adapt your code to use either `displot` (a figure-level function with\n",
            "similar flexibility) or `histplot` (an axes-level function for histograms).\n",
            "\n",
            "For a guide to updating your code to use the new functions, please see\n",
            "https://gist.github.com/mwaskom/de44147ed2974457ad6372750bbe5751\n",
            "\n",
            "  sns.distplot(df.Start_Time.dt.dayofweek, bins=7, kde=False, norm_hist=True)\n"
          ]
        },
        {
          "output_type": "execute_result",
          "data": {
            "text/plain": [
              "<Axes: xlabel='Start_Time'>"
            ]
          },
          "metadata": {},
          "execution_count": 79
        },
        {
          "output_type": "display_data",
          "data": {
            "text/plain": [
              "<Figure size 432x288 with 1 Axes>"
            ],
            "image/png": "[encoded data removed]"
          },
          "metadata": {}
        }
      ]
    },
    {
      "cell_type": "markdown",
      "source": [
        "Is the distribution of accidents by hour the same on weekends as on weekdays."
      ],
      "metadata": {
        "id": "9P5Tlzt-ngn3"
      }
    },
    {
      "cell_type": "code",
      "source": [
        "sundays_start_time = df.Start_Time[df.Start_Time.dt.dayofweek == 6] \n",
        "sns.distplot(sundays_start_time.dt.hour, bins=24, kde=False, norm_hist=True)"
      ],
      "metadata": {
        "colab": {
          "base_uri": "https://localhost:8080/",
          "height": 488
        },
        "id": "e5IeoLAsb4SS",
        "outputId": "f5cbe81a-d763-4317-ce7d-fe943a2ce238"
      },
      "execution_count": 83,
      "outputs": [
        {
          "output_type": "stream",
          "name": "stderr",
          "text": [
            "<ipython-input-83-45ed207e8339>:2: UserWarning: \n",
            "\n",
            "`distplot` is a deprecated function and will be removed in seaborn v0.14.0.\n",
            "\n",
            "Please adapt your code to use either `displot` (a figure-level function with\n",
            "similar flexibility) or `histplot` (an axes-level function for histograms).\n",
            "\n",
            "For a guide to updating your code to use the new functions, please see\n",
            "https://gist.github.com/mwaskom/de44147ed2974457ad6372750bbe5751\n",
            "\n",
            "  sns.distplot(sundays_start_time.dt.hour, bins=24, kde=False, norm_hist=True)\n"
          ]
        },
        {
          "output_type": "execute_result",
          "data": {
            "text/plain": [
              "<Axes: xlabel='Start_Time'>"
            ]
          },
          "metadata": {},
          "execution_count": 83
        },
        {
          "output_type": "display_data",
          "data": {
            "text/plain": [
              "<Figure size 432x288 with 1 Axes>"
            ],
            "image/png": "[encoded data removed]"
          },
          "metadata": {}
        }
      ]
    },
    {
      "cell_type": "code",
      "source": [
        "mondays_start_time = df.Start_Time[df.Start_Time.dt.dayofweek == 0] \n",
        "sns.distplot(mondays_start_time.dt.hour, bins=24, kde=False, norm_hist=True)"
      ],
      "metadata": {
        "colab": {
          "base_uri": "https://localhost:8080/",
          "height": 488
        },
        "id": "2dvgoFayYUto",
        "outputId": "cbb85094-a56f-4a87-fbe1-743e7e1fe11e"
      },
      "execution_count": 107,
      "outputs": [
        {
          "output_type": "stream",
          "name": "stderr",
          "text": [
            "<ipython-input-107-c6bc821e85ba>:2: UserWarning: \n",
            "\n",
            "`distplot` is a deprecated function and will be removed in seaborn v0.14.0.\n",
            "\n",
            "Please adapt your code to use either `displot` (a figure-level function with\n",
            "similar flexibility) or `histplot` (an axes-level function for histograms).\n",
            "\n",
            "For a guide to updating your code to use the new functions, please see\n",
            "https://gist.github.com/mwaskom/de44147ed2974457ad6372750bbe5751\n",
            "\n",
            "  sns.distplot(mondays_start_time.dt.hour, bins=24, kde=False, norm_hist=True)\n"
          ]
        },
        {
          "output_type": "execute_result",
          "data": {
            "text/plain": [
              "<Axes: xlabel='Start_Time'>"
            ]
          },
          "metadata": {},
          "execution_count": 107
        },
        {
          "output_type": "display_data",
          "data": {
            "text/plain": [
              "<Figure size 432x288 with 1 Axes>"
            ],
            "image/png": "[encoded data removed]"
          },
          "metadata": {}
        }
      ]
    },
    {
      "cell_type": "markdown",
      "source": [
        "On Sundays, the peak occurs between 10 am and 3 pm, unlike weekdays"
      ],
      "metadata": {
        "id": "hvneeeTNsIxw"
      }
    },
    {
      "cell_type": "code",
      "source": [
        "df_2019 = df[df.Start_Time.dt.year == 2019]\n",
        "sns.distplot(df_2019.Start_Time.dt.month, bins=12, kde=False, norm_hist=True)"
      ],
      "metadata": {
        "colab": {
          "base_uri": "https://localhost:8080/",
          "height": 488
        },
        "id": "uzDkPfOTr8mm",
        "outputId": "b1c04ced-b557-466e-f45a-1207b65e72b1"
      },
      "execution_count": 111,
      "outputs": [
        {
          "output_type": "stream",
          "name": "stderr",
          "text": [
            "<ipython-input-111-adbdc11facd8>:2: UserWarning: \n",
            "\n",
            "`distplot` is a deprecated function and will be removed in seaborn v0.14.0.\n",
            "\n",
            "Please adapt your code to use either `displot` (a figure-level function with\n",
            "similar flexibility) or `histplot` (an axes-level function for histograms).\n",
            "\n",
            "For a guide to updating your code to use the new functions, please see\n",
            "https://gist.github.com/mwaskom/de44147ed2974457ad6372750bbe5751\n",
            "\n",
            "  sns.distplot(df_2019.Start_Time.dt.month, bins=12, kde=False, norm_hist=True)\n"
          ]
        },
        {
          "output_type": "execute_result",
          "data": {
            "text/plain": [
              "<Axes: xlabel='Start_Time'>"
            ]
          },
          "metadata": {},
          "execution_count": 111
        },
        {
          "output_type": "display_data",
          "data": {
            "text/plain": [
              "<Figure size 432x288 with 1 Axes>"
            ],
            "image/png": "[encoded data removed]"
          },
          "metadata": {}
        }
      ]
    },
    {
      "cell_type": "markdown",
      "source": [
        "Can you explain the month-wise trend of accidents?\n",
        "\n",
        "- Much data is missing for 2016.Maybe even 2017."
      ],
      "metadata": {
        "id": "vhNlwA3ZtkEr"
      }
    },
    {
      "cell_type": "markdown",
      "source": [
        "## Start Latitude & Longitude"
      ],
      "metadata": {
        "id": "ZFBmQugKCk6A"
      }
    },
    {
      "cell_type": "code",
      "source": [
        "df.Start_Lat"
      ],
      "metadata": {
        "colab": {
          "base_uri": "https://localhost:8080/"
        },
        "id": "m1I27A5-r8Z9",
        "outputId": "fb2c1327-7f59-49b5-ef9a-bebe6e3c3f62"
      },
      "execution_count": 112,
      "outputs": [
        {
          "output_type": "execute_result",
          "data": {
            "text/plain": [
              "0          40.108910\n",
              "1          39.865420\n",
              "2          39.102660\n",
              "3          41.062130\n",
              "4          39.172393\n",
              "             ...    \n",
              "2845337    34.002480\n",
              "2845338    32.766960\n",
              "2845339    33.775450\n",
              "2845340    33.992460\n",
              "2845341    34.133930\n",
              "Name: Start_Lat, Length: 2845342, dtype: float64"
            ]
          },
          "metadata": {},
          "execution_count": 112
        }
      ]
    },
    {
      "cell_type": "code",
      "source": [
        "df.Start_Lng"
      ],
      "metadata": {
        "colab": {
          "base_uri": "https://localhost:8080/"
        },
        "id": "dkuWdAw7r8Vn",
        "outputId": "6663b0e2-1b3a-49b4-f2be-bc25156240cd"
      },
      "execution_count": 113,
      "outputs": [
        {
          "output_type": "execute_result",
          "data": {
            "text/plain": [
              "0          -83.092860\n",
              "1          -84.062800\n",
              "2          -84.524680\n",
              "3          -81.537840\n",
              "4          -84.492792\n",
              "              ...    \n",
              "2845337   -117.379360\n",
              "2845338   -117.148060\n",
              "2845339   -117.847790\n",
              "2845340   -118.403020\n",
              "2845341   -117.230920\n",
              "Name: Start_Lng, Length: 2845342, dtype: float64"
            ]
          },
          "metadata": {},
          "execution_count": 113
        }
      ]
    },
    {
      "cell_type": "code",
      "source": [
        "sample_df = df.sample(int(0.1 * len(df)))"
      ],
      "metadata": {
        "id": "u6vQl4JKDHb7"
      },
      "execution_count": 116,
      "outputs": []
    },
    {
      "cell_type": "code",
      "source": [
        "sns.scatterplot(x=sample_df.Start_Lng, y=sample_df.Start_Lat, size=0.001)"
      ],
      "metadata": {
        "colab": {
          "base_uri": "https://localhost:8080/",
          "height": 299
        },
        "id": "DYxDFqrFDHYR",
        "outputId": "cae38444-60ae-4699-9859-306eb6c268b0"
      },
      "execution_count": 117,
      "outputs": [
        {
          "output_type": "execute_result",
          "data": {
            "text/plain": [
              "<Axes: xlabel='Start_Lng', ylabel='Start_Lat'>"
            ]
          },
          "metadata": {},
          "execution_count": 117
        },
        {
          "output_type": "display_data",
          "data": {
            "text/plain": [
              "<Figure size 432x288 with 1 Axes>"
            ],
            "image/png": "[encoded data removed]"
          },
          "metadata": {}
        }
      ]
    },
    {
      "cell_type": "code",
      "source": [
        "import folium"
      ],
      "metadata": {
        "id": "vPzI3OH2DECq"
      },
      "execution_count": 118,
      "outputs": []
    },
    {
      "cell_type": "code",
      "source": [
        "lat, lon = df.Start_Lat[0], df.Start_Lng[0]\n",
        "lat, lon"
      ],
      "metadata": {
        "colab": {
          "base_uri": "https://localhost:8080/"
        },
        "id": "QyVQop6MGz6-",
        "outputId": "cc8e54d5-b7ef-4474-cb7f-3bdc803a9913"
      },
      "execution_count": 121,
      "outputs": [
        {
          "output_type": "execute_result",
          "data": {
            "text/plain": [
              "(40.10891, -83.09286)"
            ]
          },
          "metadata": {},
          "execution_count": 121
        }
      ]
    },
    {
      "cell_type": "code",
      "source": [
        "for x in df[['Start_Lat', 'Start_Lng']].sample(100).iteritems():\n",
        "  print(x[1])"
      ],
      "metadata": {
        "colab": {
          "base_uri": "https://localhost:8080/"
        },
        "id": "48SlvQtzIOHQ",
        "outputId": "97b8db0b-2b59-433e-c0f2-c313d69672bc"
      },
      "execution_count": 129,
      "outputs": [
        {
          "output_type": "stream",
          "name": "stdout",
          "text": [
            "1867203    35.334724\n",
            "1091542    34.153900\n",
            "910209     33.685519\n",
            "130349     33.920223\n",
            "178339     40.057338\n",
            "             ...    \n",
            "897179     32.764073\n",
            "763376     28.489272\n",
            "587353     40.903204\n",
            "142334     34.286120\n",
            "677687     35.966879\n",
            "Name: Start_Lat, Length: 100, dtype: float64\n",
            "1867203    -81.821979\n",
            "1091542   -118.276331\n",
            "910209     -85.131910\n",
            "130349    -118.300400\n",
            "178339     -80.595114\n",
            "              ...    \n",
            "897179     -97.320359\n",
            "763376     -81.458756\n",
            "587353     -74.092880\n",
            "142334    -118.467950\n",
            "677687    -119.291100\n",
            "Name: Start_Lng, Length: 100, dtype: float64\n"
          ]
        }
      ]
    },
    {
      "cell_type": "code",
      "source": [
        "zip(list(df.Start_Lat), list(df.Start_Lng))"
      ],
      "metadata": {
        "colab": {
          "base_uri": "https://localhost:8080/"
        },
        "id": "6mP5iXCkMuIC",
        "outputId": "9629dc6b-b396-474c-b386-f491003cbb58"
      },
      "execution_count": 135,
      "outputs": [
        {
          "output_type": "execute_result",
          "data": {
            "text/plain": [
              "<zip at 0x7f609cf5ebc0>"
            ]
          },
          "metadata": {},
          "execution_count": 135
        }
      ]
    },
    {
      "cell_type": "code",
      "source": [
        "from folium.plugins import HeatMap"
      ],
      "metadata": {
        "id": "q5GC8_zqO2mO"
      },
      "execution_count": 138,
      "outputs": []
    },
    {
      "cell_type": "code",
      "source": [
        "sample_df = df.sample(int(0.001 * len(df)))\n",
        "lat_lon_pairs = list(zip(list(sample_df.Start_Lat), list(sample_df.Start_Lng)))"
      ],
      "metadata": {
        "id": "SuTin3BWPsC9"
      },
      "execution_count": 151,
      "outputs": []
    },
    {
      "cell_type": "code",
      "source": [
        "map = folium.Map()\n",
        "HeatMap(lat_lon_pairs).add_to(map)\n",
        "map"
      ],
      "metadata": {
        "colab": {
          "base_uri": "https://localhost:8080/",
          "height": 685
        },
        "id": "FWlRGTSuDD8_",
        "outputId": "dda59591-51bf-4c5d-e9a2-73af4774dd78"
      },
      "execution_count": 152,
      "outputs": [
        {
          "output_type": "execute_result",
          "data": {
            "text/plain": [
              "<folium.folium.Map at 0x7f60c6c1cdf0>"
            ],
            "text/html": [
              "<div style=\"width:100%;\"><div style=\"position:relative;width:100%;height:0;padding-bottom:60%;\"><span style=\"color:#565656\">Make this Notebook Trusted to load map: File -> Trust Notebook</span><iframe srcdoc=\"&lt;!DOCTYPE html&gt;\n",
              "&lt;html&gt;\n",
              "&lt;head&gt;\n",
              "    \n",
              "    &lt;meta http-equiv=&quot;content-type&quot; content=&quot;text/html; charset=UTF-8&quot; /&gt;\n",
              "    \n",
              "        &lt;script&gt;\n",
              "            L_NO_TOUCH = false;\n",
              "            L_DISABLE_3D = false;\n",
              "        &lt;/script&gt;\n",
              "    \n",
              "    &lt;style&gt;html, body {width: 100%;height: 100%;margin: 0;padding: 0;}&lt;/style&gt;\n",
              "    &lt;style&gt;#map {position:absolute;top:0;bottom:0;right:0;left:0;}&lt;/style&gt;\n",
              "    &lt;script src=&quot;https://cdn.jsdelivr.net/npm/leaflet@1.9.3/dist/leaflet.js&quot;&gt;&lt;/script&gt;\n",
              "    &lt;script src=&quot;https://code.jquery.com/jquery-1.12.4.min.js&quot;&gt;&lt;/script&gt;\n",
              "    &lt;script src=&quot;https://cdn.jsdelivr.net/npm/bootstrap@5.2.2/dist/js/bootstrap.bundle.min.js&quot;&gt;&lt;/script&gt;\n",
              "    &lt;script src=&quot;https://cdnjs.cloudflare.com/ajax/libs/Leaflet.awesome-markers/2.0.2/leaflet.awesome-markers.js&quot;&gt;&lt;/script&gt;\n",
              "    &lt;link rel=&quot;stylesheet&quot; href=&quot;https://cdn.jsdelivr.net/npm/leaflet@1.9.3/dist/leaflet.css&quot;/&gt;\n",
              "    &lt;link rel=&quot;stylesheet&quot; href=&quot;https://cdn.jsdelivr.net/npm/bootstrap@5.2.2/dist/css/bootstrap.min.css&quot;/&gt;\n",
              "    &lt;link rel=&quot;stylesheet&quot; href=&quot;https://netdna.bootstrapcdn.com/bootstrap/3.0.0/css/bootstrap.min.css&quot;/&gt;\n",
              "    &lt;link rel=&quot;stylesheet&quot; href=&quot;https://cdn.jsdelivr.net/npm/@fortawesome/fontawesome-free@6.2.0/css/all.min.css&quot;/&gt;\n",
              "    &lt;link rel=&quot;stylesheet&quot; href=&quot;https://cdnjs.cloudflare.com/ajax/libs/Leaflet.awesome-markers/2.0.2/leaflet.awesome-markers.css&quot;/&gt;\n",
              "    &lt;link rel=&quot;stylesheet&quot; href=&quot;https://cdn.jsdelivr.net/gh/python-visualization/folium/folium/templates/leaflet.awesome.rotate.min.css&quot;/&gt;\n",
              "    \n",
              "            &lt;meta name=&quot;viewport&quot; content=&quot;width=device-width,\n",
              "                initial-scale=1.0, maximum-scale=1.0, user-scalable=no&quot; /&gt;\n",
              "            &lt;style&gt;\n",
              "                #map_9edddd50296aa24d7cdce2cdb2cd3c18 {\n",
              "                    position: relative;\n",
              "                    width: 100.0%;\n",
              "                    height: 100.0%;\n",
              "                    left: 0.0%;\n",
              "                    top: 0.0%;\n",
              "                }\n",
              "                .leaflet-container { font-size: 1rem; }\n",
              "            &lt;/style&gt;\n",
              "        \n",
              "    &lt;script src=&quot;https://cdn.jsdelivr.net/gh/python-visualization/folium@main/folium/templates/leaflet_heat.min.js&quot;&gt;&lt;/script&gt;\n",
              "&lt;/head&gt;\n",
              "&lt;body&gt;\n",
              "    \n",
              "    \n",
              "            &lt;div class=&quot;folium-map&quot; id=&quot;map_9edddd50296aa24d7cdce2cdb2cd3c18&quot; &gt;&lt;/div&gt;\n",
              "        \n",
              "&lt;/body&gt;\n",
              "&lt;script&gt;\n",
              "    \n",
              "    \n",
              "            var map_9edddd50296aa24d7cdce2cdb2cd3c18 = L.map(\n",
              "                &quot;map_9edddd50296aa24d7cdce2cdb2cd3c18&quot;,\n",
              "                {\n",
              "                    center: [0, 0],\n",
              "                    crs: L.CRS.EPSG3857,\n",
              "                    zoom: 1,\n",
              "                    zoomControl: true,\n",
              "                    preferCanvas: false,\n",
              "                }\n",
              "            );\n",
              "\n",
              "            \n",
              "\n",
              "        \n",
              "    \n",
              "            var tile_layer_08976c25a0da0152a07fa8aba226e1b5 = L.tileLayer(\n",
              "                &quot;https://{s}.tile.openstreetmap.org/{z}/{x}/{y}.png&quot;,\n",
              "                {&quot;attribution&quot;: &quot;Data by \\u0026copy; \\u003ca target=\\&quot;_blank\\&quot; href=\\&quot;http://openstreetmap.org\\&quot;\\u003eOpenStreetMap\\u003c/a\\u003e, under \\u003ca target=\\&quot;_blank\\&quot; href=\\&quot;http://www.openstreetmap.org/copyright\\&quot;\\u003eODbL\\u003c/a\\u003e.&quot;, &quot;detectRetina&quot;: false, &quot;maxNativeZoom&quot;: 18, &quot;maxZoom&quot;: 18, &quot;minZoom&quot;: 0, &quot;noWrap&quot;: false, &quot;opacity&quot;: 1, &quot;subdomains&quot;: &quot;abc&quot;, &quot;tms&quot;: false}\n",
              "            ).addTo(map_9edddd50296aa24d7cdce2cdb2cd3c18);\n",
              "        \n",
              "    \n",
              "            var heat_map_13ba325938fa6c13a520d45aebc420f3 = L.heatLayer(\n",
              "                [[40.819374, -74.039377], [33.20702, -117.38528], [38.550606, -121.42272], [30.3235, -97.67038], [32.087488, -110.840934], [32.718532, -96.830209], [42.386451, -88.177713], [33.87157, -117.68663], [39.65893, -84.15764], [33.97867, -118.07803], [37.848941, -77.453817], [41.610498, -88.475063], [34.03842, -81.0978], [37.560647, -121.908351], [30.00654, -90.01901], [41.72977, -87.62483], [38.04492, -122.5342], [41.72734000000001, -87.62431], [40.527, -74.33104], [28.454073, -81.477682], [45.006254, -93.45712], [40.583673, -77.611687], [36.066881, -86.68701], [34.031369, -118.192302], [36.138054, -120.08401299999998], [40.785199, -74.048148], [34.777809999999995, -92.24593], [41.246261, -73.095887], [44.536567, -118.561438], [47.745744, -97.304787], [29.95576, -90.12055], [27.725082, -80.99360300000002], [41.313046, -122.321552], [25.83675, -80.20614], [40.708, -74.23183], [28.24178, -82.46041], [34.182539, -118.146079], [29.99395800000001, -90.074608], [40.160636, -75.269609], [43.604899, -116.334387], [34.13539, -118.00448], [38.71487800000001, -75.10741800000002], [35.121119, -85.050753], [27.801034, -82.679435], [45.341429, -123.169943], [38.022297, -77.498942], [37.338428, -122.059689], [41.747778, -74.06255999999998], [28.494273, -81.424361], [36.70119, -121.676561], [40.019595, -75.147121], [34.294668, -118.399656], [33.88901, -117.880461], [34.02024, -118.18843], [38.404904, -121.91246], [34.361102, -118.505921], [33.999340000000004, -118.28091], [37.712473, -121.715963], [36.075882, -86.639938], [43.45133, -88.80029], [35.263527, -120.673624], [28.556932, -81.450818], [35.660619, -78.853481], [30.409578000000003, -86.82581400000002], [30.258113, -97.812206], [42.318327, -83.2151], [42.988975, -83.703956], [33.930997, -118.280059], [37.542361, -122.019801], [38.648239, -90.124315], [45.546975, -111.216187], [38.961215, -77.418727], [47.59055, -122.30434], [42.57927, -121.92194], [37.396178000000006, -122.014677], [38.71032, -121.389349], [34.148982000000004, -118.46903], [41.84484000000001, -87.95779], [41.898442, -71.369974], [32.74298, -96.91893], [34.074686, -118.27316100000002], [32.74456, -97.32726], [32.135167, -110.934737], [33.875479, -117.265416], [25.683284, -80.443365], [43.60949, -84.16438000000002], [33.84981, -117.87573], [40.47599, -74.40666999999998], [40.29157, -79.83393000000002], [33.770236, -117.869357], [40.43748, -78.412242], [45.45351, -122.72118], [25.622598, -80.414436], [38.551573, -121.474087], [37.069105, -119.351829], [26.683312, -80.163706], [32.899491999999995, -96.898115], [41.98372, -72.42447], [32.89526, -117.21524], [28.332582, -81.584687], [32.124915, -86.450059], [33.806940000000004, -83.69221], [33.236351, -111.78951200000002], [25.947243, -80.197189], [39.763078, -104.782798], [33.448315, -112.023776], [35.998624, -86.601737], [32.229348, -110.982846], [39.97629000000001, -83.11041999999998], [37.897346, -122.309103], [34.145990000000005, -117.189456], [33.971357, -118.230225], [28.264364, -81.431341], [34.110009000000005, -118.333877], [34.15205, -118.12751000000002], [45.50727, -122.67022], [45.219887, -93.027639], [34.128718, -117.504836], [40.72009, -111.90364], [44.10373, -121.30674], [32.74968, -117.108998], [40.253702, -74.51576800000002], [28.571643, -81.110385], [25.86639, -80.20825], [29.868954, -95.41333], [28.509574, -81.420612], [29.527312, -98.686677], [40.61659, -73.75178000000002], [35.176731, -81.417757], [40.272083, -79.07543199999998], [33.552951, -117.142049], [32.758779, -97.06348], [41.195737, -73.80755699999997], [28.125716, -82.236649], [37.14435, -121.98468], [38.98895, -76.88351999999998], [38.918219, -76.915615], [45.205122, -93.396764], [26.667296, -81.88610899999998], [33.909144, -118.265308], [25.771919, -80.320347], [34.273058, -118.427019], [25.725882, -80.431505], [33.429233, -111.90038], [43.35697, -89.00016], [28.435979, -81.40539799999998], [37.79091, -122.385716], [27.429524, -82.530294], [29.398545, -98.474246], [25.771656, -80.264986], [39.019135, -76.959067], [33.752567, -84.590402], [33.95474, -118.107561], [28.71192000000001, -81.379112], [27.75197600000001, -82.683104], [27.942923, -82.335651], [29.94081, -95.40396], [28.468802, -81.417358], [42.38964, -73.82624], [35.77539, -78.57368000000002], [29.622048, -95.564757], [28.385748, -81.50386999999998], [39.644562, -104.0656], [35.798915, -78.568441], [34.414833, -119.771436], [33.72224, -117.97475], [35.590869, -118.522597], [25.750517, -80.410321], [34.071902, -118.086396], [41.757305, -71.434167], [35.55799099999999, -119.33194], [37.972598, -122.319742], [32.77983, -117.09744], [40.803812, -73.916239], [25.912792, -80.324848], [39.207092, -104.86175], [40.69851, -74.1558], [38.796756, -77.132121], [42.29515, -71.21786], [47.24318, -122.43538999999998], [34.272378, -118.428772], [34.118577, -117.865462], [35.802552, -78.56362299999998], [35.383045, -119.04458], [38.105368, -122.229773], [39.096159, -94.62613], [39.428482, -74.581762], [33.931319, -118.365154], [45.069481, -93.293681], [25.930307, -80.29349599999998], [40.042838, -75.333529], [34.009369, -117.824002], [40.32688, -75.93149], [40.970199, -79.012853], [37.83935200000001, -122.486755], [25.783186, -80.269467], [34.01802, -118.05285], [41.933822, -124.164796], [37.614738, -122.162375], [38.887429, -77.218825], [33.870577000000004, -117.702997], [32.177683, -110.987665], [32.42409, -80.749584], [37.601589, -77.500421], [36.914652, -76.130973], [32.407549, -81.76297199999998], [35.03415, -80.84793], [33.70774, -78.9179], [40.90195, -74.13320999999998], [37.518608, -122.261287], [47.692325, -114.160333], [29.914253, -89.99300600000002], [37.509953, -122.251463], [44.926911, -93.274551], [40.25747, -75.214123], [32.443389, -93.721079], [28.473644, -82.54875600000003], [38.912128, -77.03195500000002], [30.166495, -81.544747], [40.74334, -111.99237], [35.470372, -120.654642], [38.828011, -77.815915], [28.435496, -81.404596], [29.54928, -95.14997], [45.4419, -122.98451], [42.73693400000001, -121.839698], [36.326538, -119.272854], [34.03443, -118.38465], [36.06682, -86.68665], [33.827944, -118.082496], [34.096277, -78.875147], [30.94962, -84.02394], [33.92575, -118.17795], [41.7625, -122.58975], [45.44447, -93.99366], [33.670722999999995, -112.113098], [42.183382, -121.654679], [33.930881, -118.368253], [41.20237, -85.10448000000002], [25.87956, -80.32332], [39.03231, -84.60591], [38.990911, -94.50243], [44.78731, -93.24799], [39.939776, -76.793736], [37.329021, -121.841801], [40.166059, -75.288682], [36.547347, -119.744051], [38.544779, -121.47398], [41.821975, -71.420153], [34.86587100000001, -82.463689], [38.660775, -121.346852], [37.21479, -76.591616], [43.246549, -122.291097], [34.06769, -117.58679], [33.74477, -117.84166], [33.020501, -87.749797], [40.760568, -73.75416], [37.63403, -122.412], [41.190677, -122.285343], [34.71553, -80.74606999999997], [46.873029, -99.444755], [25.927983, -80.203754], [25.815432, -80.240564], [33.749041, -117.980026], [25.724822, -80.261607], [44.892764, -93.57741], [33.7032, -117.35361], [37.52222, -77.27339], [33.992712, -117.355671], [38.882554, -121.105026], [29.99103400000001, -90.061937], [45.566229, -122.678744], [34.148942, -118.059126], [41.364222, -72.091223], [25.621136, -80.378648], [47.994115, -114.20948], [35.015291, -81.749706], [34.24231, -118.41961], [34.20301, -86.82776], [40.82203, -77.83984], [32.221552, -110.877868], [34.030141, -118.409453], [41.889747, -87.917811], [40.337357, -121.913879], [27.949913, -82.349724], [38.50019, -121.435185], [34.015745, -118.281069], [42.753315, -71.129263], [30.187286, -97.772601], [29.705477, -95.500891], [42.839992, -83.705085], [38.547968, -77.340499], [34.010511, -117.823493], [32.913773, -96.869293], [39.195643, -121.30102], [33.876719, -118.187766], [41.95503, -87.73250999999998], [39.134909, -77.146326], [25.944226, -80.121195], [28.26762, -81.363463], [37.575377, -120.847043], [41.53906, -81.63455], [39.246135, -76.687263], [43.14042, -77.66538], [35.688262, -78.5813], [40.81421, -73.93444000000002], [45.014451, -92.958787], [44.670417, -68.576346], [42.052448, -123.714266], [35.491073, -78.34784300000003], [33.944524, -118.098703], [44.952166, -95.717121], [33.74974, -118.26124], [44.781523, -93.473209], [28.55300900000001, -81.39063], [30.425833, -97.701861], [45.010419, -93.189747], [34.028037, -84.575544], [31.855127000000003, -106.437769], [39.09631, -94.56717], [26.706765, -80.111503], [29.508758, -98.551522], [25.903404, -80.178986], [34.492092, -118.283428], [38.533438, -123.273397], [41.34753, -72.86785], [36.739297, -119.777723], [45.098845, -93.402063], [33.84786, -86.82845999999998], [43.659678, -93.183256], [35.18644000000001, -80.9689], [42.073055, -122.605857], [38.681299, -121.336969], [38.236128, -77.501041], [28.230744, -81.243935], [37.663557, -121.914929], [40.435354, -79.7556], [38.73482, -78.751451], [39.78513, -86.13866], [29.725526, -95.418591], [37.882011, -121.777321], [34.412881, -119.556001], [39.321048, -77.719038], [25.629258, -80.382456], [36.025374, -95.879157], [34.210666, -118.231195], [35.836905, -119.261306], [33.615202000000004, -117.118727], [30.429283, -91.057218], [39.715099, -74.248262], [44.271414, -92.556351], [39.107025, -94.587768], [33.891715000000005, -117.646811], [39.89902100000001, -75.17410100000002], [35.39221, -80.77549], [33.714046, -117.338333], [33.976473, -118.282676], [40.968822, -111.439207], [37.62279, -120.984443], [24.706414, -81.127941], [33.383966, -112.215569], [42.91783, -85.67971999999997], [45.214699, -94.317522], [41.409215, -112.050123], [40.726896, -112.024887], [40.83973, -74.15934], [33.939331, -117.191838], [33.098040000000005, -97.028857], [40.659509, -74.287308], [26.546473, -81.847797], [39.783457, -105.057288], [39.6798, -86.341698], [38.004379, -120.26167], [33.989711, -117.36011], [25.75594, -80.32023000000002], [38.902933, -77.02251], [38.730419, -77.19840699999997], [35.908111, -78.893796], [28.683897, -81.49271], [45.033358, -93.28736], [41.90334, -87.88379], [37.941514, -122.472304], [35.948452, -83.99095200000002], [42.32868, -121.81779], [39.398212, -77.416815], [43.14701, -77.54091], [39.75794000000001, -84.17713], [37.592639, -122.363447], [42.380209, -122.906089], [41.119708, -73.378671], [35.079735, -90.065426], [36.692292, -119.79078], [33.973828000000005, -118.079951], [34.170359999999995, -118.602921], [39.902343, -86.06599200000002], [27.81168, -82.6645], [32.77811, -96.68265], [33.802801, -83.0081], [37.317974, -80.047043], [42.277053, -84.351128], [28.486795, -81.419402], [47.652736, -92.865961], [42.812958, -84.518326], [40.655684, -74.307661], [40.74792, -73.76013], [33.960007, -118.286764], [30.174106, -97.798869], [34.18238, -118.31484], [37.000008, -121.955862], [36.144694, -85.373184], [34.18676, -118.40152], [28.492141, -81.458805], [34.128309, -117.961975], [32.780811, -80.628242], [36.06958, -80.156724], [25.585825, -80.358459], [36.159865, -86.643336], [37.885477, -76.899612], [32.689791, -96.823148], [34.156890000000004, -118.37925], [41.91453, -87.94024], [34.035138, -118.369517], [40.113497, -75.088832], [39.08901, -84.47495], [32.513534, -93.713595], [33.974756, -118.248928], [34.007846, -118.280836], [38.58877, -121.29123], [42.350926, -87.854555], [39.033039, -76.944133], [37.78352, -121.1929], [34.154421, -118.383185], [29.49295, -98.556121], [40.07043, -75.75960500000002], [36.854346, -119.949363], [43.909767, -95.038765], [33.912908, -118.140823], [34.679064000000004, -83.010887], [33.945518, -117.870568], [35.233748, -80.77515799999998], [35.686871999999994, -120.336819], [34.154720000000005, -118.64925], [34.865261, -82.242051], [38.699122, -121.376213], [40.00126, -75.22638], [38.811532, -84.60181800000002], [34.130419, -117.579883], [26.681918, -81.792642], [40.090814, -75.21478], [25.71103, -80.404622], [44.64233400000001, -123.143797], [41.65251, -93.72805], [37.536719, -120.848018], [37.084094, -121.977346], [39.691316, -84.229827], [44.9702, -74.655298], [38.935558, -94.612118], [33.930722, -118.210617], [39.136615, -77.548102], [36.06907, -90.672472], [44.025379, -91.743805], [34.12825, -117.50539], [39.1736, -84.4908], [25.92446, -80.154219], [39.82127, -85.76276999999997], [25.942286, -80.334287], [40.72811, -73.88606999999998], [42.359709, -122.861071], [37.609095, -120.976213], [42.38003, -83.21755], [37.927978, -122.32287], [42.863015, -83.738787], [38.97996, -76.14057], [33.922315000000005, -118.104346], [33.551569, -80.949163], [35.337443, -119.003082], [37.427526, -122.19466], [28.458312, -81.47014300000002], [41.309558, -122.801728], [36.064435, -79.464229], [40.959724, -73.74063100000002], [44.96123, -93.09035], [25.734217, -80.335882], [40.798604, -73.923638], [34.03693, -118.43877], [41.2239, -96.01846], [35.23831, -80.89713], [43.188718, -77.87432199999998], [33.925092, -117.884437], [33.85907, -118.28964], [44.0812, -123.17261], [34.261532, -119.247376], [29.828095, -95.496939], [25.685213, -80.417862], [33.128861, -117.098506], [37.32177, -121.99533], [38.054903, -78.483071], [34.199679, -118.396457], [38.527236, -121.33489], [33.73985, -117.83121], [34.027976, -118.231333], [37.97967, -122.31737], [41.30072, -72.9122], [29.938990000000004, -95.41395], [41.71466, -87.63195], [26.085103, -80.168299], [30.320624, -81.692394], [38.70238, -90.45032], [38.474335, -121.41593799999998], [34.172288, -118.516349], [33.895121, -118.326516], [25.683259, -80.343726], [44.810232, -123.027395], [39.642698, -106.371496], [38.862243, -77.346244], [41.425141, -73.068362], [28.547273, -81.413824], [33.921649, -118.369184], [29.814809000000004, -95.375742], [33.91263, -118.153548], [40.68707, -73.9139], [42.09438, -122.60417], [39.37894, -76.743096], [40.197312, -80.24833199999998], [34.03029, -117.702015], [45.36163, -93.82788], [37.517128, -122.259878], [40.149203, -76.563237], [33.997458, -117.888348], [37.777744, -77.884687], [36.09763, -80.2089], [38.15516, -121.67645], [40.626837, -111.902746], [34.235554, -118.47253899999998], [32.691706, -96.583779], [33.21917, -111.7893], [30.456341, -91.07335], [40.76502, -111.876789], [28.20867800000001, -82.66624499999998], [26.122266, -80.149711], [33.542751, -117.176281], [40.137686, -75.01458199999998], [30.329534, -81.67583], [37.541617, -77.38998199999997], [47.504108, -121.884646], [33.858708, -118.03346299999998], [30.260744, -97.735037], [39.853147, -85.165891], [39.943789, -77.61854699999998], [39.74032, -105.0532], [40.65307, -111.9814], [33.801023, -117.128514], [30.168231, -81.583174], [25.925898, -80.166604], [34.706375, -81.190795], [42.82645, -85.68339], [35.047766, -81.80779100000002], [44.05114, -95.75347], [33.788208000000004, -118.011126], [34.761906, -112.453551], [42.912618, -85.605327], [27.769989, -82.728389], [42.37106, -83.05438000000002], [34.35023, -118.541896], [42.02418, -73.32406999999998], [34.273912, -119.13528], [43.052847, -118.184276], [33.990555, -118.282667], [44.145371, -121.269287], [34.41362, -119.556559], [34.00444, -118.4122], [38.70874, -89.95515999999998], [36.839215, -121.39068600000002], [45.34971, -122.65857], [36.865364, -76.438225], [35.985233, -80.621126], [25.598639, -80.35282], [30.42441, -97.6719], [28.33729000000001, -81.37875], [32.894496999999994, -96.711806], [32.924576, -96.399415], [33.960014, -118.280519], [30.616847, -88.13725600000002], [34.294998, -118.41471], [39.04188, -113.850363], [45.52635, -122.566], [34.130884, -117.92896299999998], [28.669631, -81.491962], [40.4831, -74.4138], [40.41328, -76.58858000000002], [28.495105, -81.326672], [39.48835, -119.78525], [35.445793, -118.789213], [39.55969, -76.36296], [30.438935, -91.187305], [45.407434, -122.571508], [40.24871, -75.242572], [37.27355, -93.11334], [37.729966, -122.403723], [33.949107, -118.163931], [25.927788, -80.204583], [34.021445, -118.802517], [34.06458, -117.79645], [37.7263, -122.44602], [26.685359, -81.884603], [33.974736, -118.240603], [29.78442, -95.34002], [33.680035, -117.760494], [29.94377, -90.091996], [27.400749, -80.396951], [41.40778, -81.64081], [40.731684, -75.306407], [29.81046, -95.37413], [32.73124, -117.15464], [32.250382, -110.927518], [46.875673, -122.27093], [32.86821, -96.66777], [34.614319, -120.079994], [30.47221, -91.1557], [38.882356, -77.026135], [43.012193, -123.954416], [38.003008, -122.0514], [25.685462, -80.415318], [41.94498, -71.43632], [35.130511, -91.823419], [29.52072, -98.51467], [37.3365, -121.85743], [38.678147, -121.257434], [33.95686, -117.30668], [42.36904000000001, -83.21644], [32.913125, -96.89651], [25.605558, -80.348549], [30.397401, -91.056839], [33.042386, -80.865478], [40.85163, -73.95284000000002], [33.8532, -117.906635], [35.25047, -80.89896], [45.49377, -122.565371], [34.257259999999995, -118.472109], [38.80667, -77.25680600000003], [33.740534000000004, -117.833811], [36.881366, -119.730002], [40.249496, -77.07682700000002], [33.38572, -111.924688], [36.84457, -76.2006], [34.058503, -118.177683], [37.11805, -80.413134], [47.642664, -122.318524], [25.7307, -80.317718], [27.912786, -82.78784300000002], [34.73481, -92.261713], [43.594026, -116.281818], [40.71815, -111.89508], [30.408085, -91.065598], [38.91111, -104.71876], [39.80272, -86.07816], [39.182305, -123.753777], [33.992034000000004, -117.931843], [40.907732, -74.099897], [28.51892, -81.729478], [42.132989, -122.633829], [34.15229, -118.11327], [41.87608, -87.66223000000002], [45.427976, -122.744272], [39.820986, -85.764523], [27.410277, -80.38864699999998], [27.598546, -80.505913], [40.85746, -73.974011], [25.789784, -80.20415], [28.14964, -82.697583], [34.163942, -79.841013], [26.13501, -80.16923], [35.196432, -80.826998], [40.457921, -74.277241], [37.65785, -92.660095], [40.736942, -74.123919], [42.324877, -88.164467], [33.876742, -118.172977], [32.828501, -116.624689], [38.8314, -76.877018], [32.877908000000005, -117.172627], [32.652532, -96.617213], [33.504227, -117.152774], [25.879745, -80.219498], [27.77727, -82.67933000000002], [28.311558, -82.150247], [35.89696, -86.462577], [34.152319, -118.333717], [40.97432, -77.634338], [47.5867, -122.30278], [34.103761, -117.983497], [41.24952800000001, -76.521015], [37.488967, -120.216768], [34.186747, -118.401504], [33.974646, -118.285766], [33.49495, -112.11706], [42.265831, -73.875557], [32.800255, -96.626372], [32.71118, -97.22962], [40.13102, -86.51924], [34.058126, -118.214253], [32.701104, -96.835742], [39.635592, -78.825949], [37.54779, -77.43162], [40.04977, -75.56492], [38.487574, -90.279108], [33.5082, -112.4613], [25.499516, -80.420505], [34.581924, -118.135246], [34.02902, -118.39637], [37.973152, -121.247295], [33.63176, -84.39544000000002], [45.503648, -122.67455], [32.778472, -117.16271], [38.588738, -121.401569], [44.17145, -117.12917], [42.35969, -87.85574], [40.805443, -111.949213], [39.747408, -86.140526], [41.90574, -78.65185], [33.687434, -117.872249], [27.7131, -82.43405], [41.729095, -72.65864300000001], [35.77962, -78.64010999999998], [40.76878, -112.02505], [39.383872, -120.085254], [37.552996, -77.443946], [40.69058, -73.577286], [33.89613, -84.25163], [34.125433, -81.241665], [34.03952, -81.09383299999998], [39.10905, -84.52156], [37.421, -122.09266], [41.184428, -79.242657], [34.303004, -117.841106], [32.422882, -93.720357], [34.154402000000005, -118.383747], [33.93869, -117.877179], [40.822397, -97.139549], [34.655817, -92.262807], [28.31492, -81.56288], [39.326387, -76.52624399999998], [32.394604, -93.814481], [25.948779, -80.183984], [35.147149, -80.72444399999998], [33.712331, -117.360216], [35.53060900000001, -118.649486], [36.764644, -119.853306], [32.75649, -96.91837], [37.78908, -122.25359], [43.63731, -92.02496], [40.706925, -73.834474], [37.62998, -77.53545], [26.550690000000003, -80.070009], [32.694887, -117.094749], [38.659758, -121.358998], [30.239735, -97.727338], [36.732079, -119.797813], [25.68383900000001, -80.40053499999998], [42.219783, -83.48459799999998], [39.79914, -86.04106], [28.98358, -81.24855], [37.44903400000001, -122.122749], [37.066807, -121.587553], [34.134609999999995, -117.64656], [32.577211, -86.339051], [43.59516, -116.45801000000002], [38.328433, -122.666731], [41.680272, -93.368886], [27.96506500000001, -82.449613], [43.15301, -70.93075999999998], [25.697926, -80.382165], [40.033896, -75.557536], [32.90498, -96.89809], [43.0876, -87.92166999999998], [33.952459999999995, -118.36938], [38.427901, -122.850569], [38.60957, -121.415347], [34.64862, -118.376517], [38.858798, -76.993565], [42.294949, -83.204323], [40.795657, -74.025882], [40.72667, -111.96777], [25.700853, -80.371347], [45.241294, -93.663048], [38.464169, -121.49643600000002], [32.94122, -96.74428], [38.6581, -121.36307], [43.22044, -77.822], [28.425089, -81.404788], [33.978792, -118.391944], [34.172332, -118.5327], [40.83602, -73.87392], [38.861083, -77.351416], [41.57681, -75.47157800000002], [43.455304, -73.44664399999998], [30.04932800000001, -95.186605], [34.192964, -117.153764], [38.325241, -122.628124], [32.289162, -111.024926], [30.009501, -90.022], [32.74921, -97.29321], [42.54601, -71.76002], [31.242231, -87.254437], [45.522253000000006, -123.88943700000002], [34.072223, -117.925053], [40.58774, -111.917709], [41.26406, -96.07593], [33.386152, -111.783539], [39.979433, -83.200204], [35.842484000000006, -78.679789], [35.616549, -118.478375], [32.76418, -117.16], [37.74116, -121.58024], [32.865633, -96.800613], [37.78086, -121.97721], [47.599184, -122.326533], [35.019428000000005, -85.283728], [36.941663, -121.434949], [43.06702, -71.47173000000002], [27.843626, -82.820701], [30.337809000000004, -97.714416], [35.383333, -119.002778], [26.527572, -80.172461], [38.389492, -122.716235], [34.06296, -118.216], [25.737078, -80.431946], [33.991454, -118.280207], [38.617376, -121.347179], [28.565407, -81.17940899999998], [32.73498, -96.82382], [41.12419600000001, -73.70393], [28.06759000000001, -82.73876], [37.420604, -122.101752], [42.379385, -83.202692], [34.18578, -118.47388], [34.08726, -117.646955], [33.42146, -86.69763], [45.53071, -122.68708], [45.31172, -93.55823], [30.287311, -97.647714], [28.50417, -81.24502], [39.65926, -106.636251], [40.931458, -73.856391], [45.958319, -118.3873], [28.363346000000003, -81.680672], [26.319218, -80.090801], [27.824259, -82.679498], [45.931578, -122.843961], [30.680297, -97.660442], [33.979440000000004, -118.28062], [36.019976, -83.48781], [44.89791, -93.1332], [44.826756, -120.921798], [33.810283, -118.158969], [36.872993, -121.735737], [35.848992, -78.614779], [30.299883, -97.71667], [27.461754, -82.663561], [40.73991, -73.84558], [39.397927, -77.424591], [36.491192, -119.788781], [40.631006, -75.46964799999998], [25.627037, -80.41460699999998], [34.90372, -82.46195], [32.96465, -96.91733], [25.722669, -80.31907700000002], [40.09474, -75.36284], [33.689049, -117.334553], [37.54635800000001, -121.195978], [30.453939, -91.139157], [39.727624, -86.04643399999998], [40.25039, -74.2749], [39.13151, -76.64291999999998], [33.349962, -111.963216], [45.556866, -117.91746299999998], [44.93304000000001, -123.0291], [38.551956, -76.015742], [40.02499, -83.03626], [38.617943, -121.401381], [25.67155, -80.36788], [34.03321, -117.808521], [39.89933, -104.98773], [34.067625, -117.571756], [29.916809000000004, -95.396888], [33.49457, -112.13371], [34.311836, -117.834352], [39.74429, -105.15398], [32.814370000000004, -117.11489], [40.75132, -122.037628], [40.05167, -75.42659], [45.292156, -85.249707], [28.785631, -81.34715600000001], [29.96261, -90.10078], [32.527703, -93.678788], [34.081385, -80.741764], [34.311899, -117.475233], [43.727185, -124.110757], [38.042124, -78.72091400000002], [40.66212, -75.38334], [44.965678, -93.258916], [44.632354, -123.099671], [27.28926400000001, -82.497495], [38.706585, -90.675607], [37.616649, -81.11461700000002], [38.584331, -121.503072], [32.909061, -96.741413], [34.26034, -118.43873], [37.09035, -113.574915], [25.811568, -80.371472], [35.168921000000005, -89.902416], [45.085991, -93.446863], [33.6953, -117.934528], [40.853374, -73.961688], [40.139672, -75.245347], [40.614845, -122.460365], [40.042786, -79.969842], [32.653928, -117.070316], [33.87498, -117.54523], [33.904392, -117.27771], [34.125464, -118.228356], [45.416482, -112.439332], [34.155709, -118.296558], [38.159841, -79.014669], [34.679062, -92.351039], [35.199115, -80.825873], [43.70902, -122.29232], [38.524919, -121.461472], [40.78121, -73.56371999999998], [35.156849, -114.566987], [32.333892, -111.062268], [47.32136, -122.29537], [37.26, -79.73501999999998], [26.333428, -81.806251], [34.155508000000005, -118.401024], [46.253371, -111.451551], [39.70142, -104.98742], [34.01587, -117.98483], [34.294998, -118.41471], [33.693113000000004, -117.92861299999998], [34.14869, -118.04699], [39.17903, -76.82811], [38.59203, -112.57472], [29.528943, -95.131248], [34.03696, -118.636689], [35.04019, -85.15827], [40.630411, -77.281415], [33.795358, -117.230469], [45.60753, -121.19918], [32.841278, -97.118636], [38.302914, -122.834159], [38.823459, -77.221675], [40.570503, -77.206689], [32.795777, -96.699841], [44.738389, -92.88187], [29.71656, -95.37895], [36.107565, -86.938245], [29.785056, -95.541313], [41.052254, -74.066247], [27.388863, -82.531612], [40.040921, -124.044875], [34.679571, -92.336569], [37.794631, -122.206233], [35.28293499999999, -103.486008], [42.487828, -83.220381], [39.548834, -85.771179], [40.56227, -111.9578], [37.377859, -77.408648], [34.835024, -82.252385], [37.880859, -77.455291], [39.871112, -75.301548], [38.84816, -77.42255300000002], [38.618154, -121.415248], [27.817532, -82.655045], [39.95637, -74.20648], [33.947528000000005, -118.279699], [29.703812, -95.573408], [39.727148, -75.531112], [37.40507, -77.45285], [45.680161, -121.28986100000002], [30.43304, -86.153315], [33.932888, -118.030183], [37.7506, -122.151478], [37.08373, -121.101732], [40.91423, -73.85027], [25.687068, -80.43012900000002], [39.384093, -121.409284], [45.12802, -93.35629], [33.877022, -118.151381], [37.20624, -121.71738899999998], [38.12159000000001, -122.27717], [25.494272, -80.429588], [46.827898, -100.855967], [38.801318, -90.700299], [45.303626, -93.795622], [38.153282, -77.50652], [37.272918, -121.862441], [34.030277000000005, -117.660498], [30.189684000000003, -81.73947700000002], [25.866637, -80.32332099999998], [40.39758, -74.55759], [34.04419, -118.173296], [40.468407, -122.307432], [35.95278, -83.979229], [30.543957, -91.06147], [38.70126, -121.10687], [33.904272, -118.274005], [39.56454, -76.97400999999998], [38.909369, -94.849726], [37.378854, -77.409692], [34.071969, -81.16012099999998], [38.459229, -121.384977], [25.686656, -80.377889], [30.444838, -87.246061], [38.588946, -122.606895], [32.906509, -96.89966], [40.62404, -111.93879], [42.742733, -73.648671], [33.880951, -117.599099], [35.33946500000001, -119.002925], [32.826471999999995, -96.783714], [39.958975, -76.720814], [47.56535, -122.32124], [45.124787, -93.343051], [28.537651, -81.47573299999998], [32.914028, -80.02956800000003], [34.066484, -118.018099], [28.498948, -81.29430699999998], [38.267349, -85.744407], [25.888999, -80.186398], [35.019933, -118.95578700000002], [39.81466500000001, -85.928889], [45.98118, -95.67109], [40.44482100000001, -79.828307], [33.831633000000004, -118.254976], [33.708575, -117.851595], [25.698674, -80.414402], [39.88123, -75.66572], [33.990527, -118.070066], [41.06879, -73.6394], [45.525215, -122.662158], [38.300452, -77.504391], [37.774568, -112.99461], [35.287896999999994, -118.914318], [26.934863, -82.31389899999998], [39.25296, -84.44385], [35.221999, -85.821177], [40.048963, -75.404253], [35.201643, -81.365765], [30.24741, -97.733628], [41.95402, -72.19955999999998], [40.005233, -74.214332], [38.687721, -121.343871], [42.09975, -80.14559], [38.032454, -122.270347], [37.644792, -122.093966], [38.743808, -121.226939], [40.056636, -76.306602], [34.0049, -81.13844399999998], [25.763863, -80.303919], [29.966947, -90.031986], [29.687681, -95.569993], [39.08149, -94.59363], [35.049025, -85.214141], [34.770526000000004, -82.34614], [45.115701, -93.188368], [28.867069, -82.511635], [40.086119, -75.211862], [35.295697, -80.798078], [36.967317, -76.297383], [38.059584, -79.11176], [33.488482, -112.264], [43.49705, -123.32553], [39.09328, -94.88166], [33.878986, -79.509703], [32.724121000000004, -117.164699], [47.29328, -122.30565], [38.640164, -121.398322], [40.25406, -88.62933000000002], [38.22662, -85.82186999999998], [29.733119, -95.476568], [30.352786, -97.638991], [26.364129, -80.119825], [47.399206, -115.358824], [43.20742, -121.77916], [38.648655, -121.373293], [32.678513, -96.855468], [26.534472, -80.073622], [39.771582, -104.818897], [29.92798, -90.07534], [44.055315, -121.243454], [37.327079, -80.03286899999998], [38.57538, -121.53426], [34.167374, -118.290204], [38.816403, -104.829901], [32.23888, -111.0508], [25.76182, -80.337716], [35.765704, -78.615081], [38.677187, -121.342927], [39.89738, -82.90273], [45.03623, -92.83288], [42.0157, -88.22771], [42.740047, -84.51021], [38.055243, -78.698522], [42.951754, -78.758626], [43.60495, -116.350723], [39.585081, -77.640413], [35.60975, -97.54938], [33.960122, -118.248894], [33.40159, -111.89098], [29.660104, -95.584071], [40.63803, -74.02081], [30.20077, -85.624895], [41.965221, -87.751623], [32.25802, -110.80221], [43.312321, -121.76775], [38.714294, -121.540224], [33.408648, -111.926266], [39.98232, -76.689193], [37.71709, -121.70358], [37.20636, -121.71756], [46.676349, -92.959774], [34.408375, -119.549447], [28.53964, -81.30699], [40.911766, -73.88465500000002], [42.879241, -85.296725], [34.865036, -120.415742], [40.687855, -111.465321], [40.803161, -73.934547], [45.237736, -93.648868], [40.9128, -73.29253], [28.03666, -82.116187], [38.06261, -122.163642], [39.71473, -75.579728], [29.426917, -98.501181], [35.839238, -78.675899], [29.95247800000001, -90.083919], [45.39296, -122.748662], [39.420694, -76.644841], [29.539528000000004, -95.139964], [32.79125, -96.684956], [29.935318, -95.39857], [38.895095, -119.999926], [35.303137, -80.751329], [27.464153000000003, -82.58762], [34.910481, -120.417881], [42.265745, -87.906621], [28.145501, -81.45715600000003], [38.6933, -121.359401], [41.98593, -87.78766999999998], [36.327204, -119.384805], [45.2181, -93.030778], [36.1912, -80.28353], [41.09678, -74.04393], [40.80933, -73.21189], [43.684074, -84.361474], [29.394752, -81.151168], [35.555523, -82.855056], [34.48512, -92.72107], [40.42974, -79.87532], [43.185976, -77.87438], [40.06687, -75.31021700000002], [35.681492, -78.840104], [38.825758, -77.316827], [34.787702, -82.48007700000002], [38.137313, -121.260877], [39.56418, -104.89841], [42.358064, -83.07765500000002], [47.46459, -122.26668], [37.33837, -80.005308], [33.99863, -118.36988999999998], [36.12628, -115.20814], [35.40618, -97.70686], [44.75915, -93.24793], [35.376128, -118.966165], [25.627116, -80.3418], [29.181616, -82.184663], [39.71499, -86.26051], [30.21708, -97.75111], [33.60428, -112.41787], [39.75524, -86.143637], [32.75566, -117.20194], [34.069706, -117.54506200000002], [28.653727000000003, -81.331338], [33.16772, -96.64173], [42.35128, -83.09848000000002], [33.86414, -118.04639], [35.551263, -120.712499], [45.19476, -93.55252], [34.074285, -117.345396], [43.655272, -123.913548], [33.766335, -78.883926], [26.25229, -80.16651999999998], [32.928111, -96.803616], [37.211412, -77.372835], [31.71984, -106.30529], [44.77821, -93.21707], [25.73299, -80.337814], [31.752295, -106.345498], [33.891096000000005, -117.507999], [38.63151, -121.50451], [37.034961, -76.35641600000002], [39.370738, -77.220863], [39.78621500000001, -74.909548], [35.01324, -81.9059], [37.52573, -77.69479], [41.5347, -74.01477], [35.408169, -119.050091], [33.879952, -117.565724], [25.760886, -80.393638], [36.38476, -119.21561], [40.579703, -75.728465], [38.291131, -121.823642], [37.38017, -77.4116], [30.411973, -86.971767], [41.7404, -87.6251], [47.255109, -121.988873], [37.37989, -121.85828], [35.65309, -97.58477], [35.798581, -78.564424], [29.849449, -81.35903499999998], [33.605692, -117.916354], [34.505984999999995, -117.818573], [34.071745, -117.876992], [38.22269, -122.253273], [30.260932, -97.735567], [33.814969, -117.877199], [30.485175, -91.083659], [40.821708, -73.041282], [33.68363, -117.87666000000002], [25.85409, -80.32133], [33.423171999999994, -80.88375], [34.023348, -118.271038], [27.960642, -82.758515], [39.015766, -77.000609], [39.640229, -106.530382], [34.002357, -117.379068], [36.96879000000001, -79.59482], [42.939194, -85.678628], [34.737592, -86.606086], [38.146001, -121.3987], [45.22622, -122.81427], [33.868736, -117.706972], [37.554555, -77.48456800000002], [29.970257, -90.074988], [29.929894, -90.022885], [42.236684, -88.112206], [39.335885, -120.305866], [34.835275, -117.190808], [44.688638, -119.647454], [25.838005, -80.24962099999998], [37.863905, -122.303047], [37.946782, -122.060352], [32.988715, -96.847413], [40.74374, -73.84688], [44.512777, -93.288392], [43.02996, -71.1271], [35.25327, -82.217742], [43.12918, -77.523854], [29.8346, -95.38534], [28.640187, -81.43559300000003], [39.79491, -86.16478000000002], [36.07158, -79.155796], [25.726059, -80.407501], [34.941233000000004, -118.931196], [38.5707, -121.468515], [33.142386, -117.188601], [39.53421, -77.230946], [36.692893, -121.694407], [40.478063, -74.407535], [34.788942, -82.940888], [25.89509, -80.20942], [38.275802, -122.047821], [39.53177, -104.86793], [40.713776, -111.82488700000002], [43.713903, -124.09895], [25.627644, -80.376779], [37.80277, -122.28857], [34.092993, -118.206203], [36.10046, -80.08189], [26.43128, -81.809216], [45.486535, -122.792974], [27.940490000000004, -82.326951], [30.462157, -91.142869], [44.94838, -93.275397], [47.8276, -122.20895], [28.09521, -82.73974], [35.109190000000005, -80.89577], [34.127088, -118.474797], [38.113607, -121.69712], [33.581474, -86.707172], [45.174371, -117.977971], [42.537785, -92.425929], [37.821925, -122.259324], [38.557471, -121.435594], [33.57734, -117.18083], [35.138849, -80.893364], [39.135252, -121.547967], [38.025645, -122.112017], [44.976965, -93.280867], [29.977581, -90.06110699999998], [26.299842, -80.197266], [33.87976, -117.60656000000002], [33.24762, -111.84116000000002], [43.92356, -121.351509], [27.960387, -82.454227], [34.06743, -117.5799], [37.44256, -77.42954], [36.755124, -119.7426], [33.422418, -112.021567], [46.59054, -92.90772], [33.550016, -112.132021], [39.056252, -77.082554], [35.260887, -80.841802], [44.95552, -93.27018], [47.57734, -111.24942], [38.9495, -76.74042], [29.77746, -95.42557], [35.044437, -85.161162], [35.083025, -85.059588], [28.428795, -81.40712099999998], [35.014683000000005, -85.274559], [34.417320000000004, -119.863223], [34.071095, -117.759422], [34.153243, -119.121685], [36.603112, -121.649533], [37.77191, -122.22391], [38.326703, -81.713888], [34.077351, -118.281354], [39.78585, -123.544614], [34.121088, -117.902966], [47.51338, -95.02838], [36.34912, -119.220473], [32.47692, -93.78251], [36.471605, -80.691322], [39.39792, -77.42845], [25.865988, -80.23833499999998], [32.682871, -80.873191], [33.766912, -84.232291], [47.45816, -122.26339], [32.85777, -96.55267], [40.648974, -75.284832], [33.878971, -117.557755], [25.94877, -80.43098], [25.940932, -80.30678], [33.92419, -84.35795], [40.75361, -111.62265], [36.575179, -121.91372], [33.651905, -117.908624], [37.474616, -122.276638], [45.293487, -93.553873], [34.030719, -117.592655], [37.897828, -122.309319], [45.36775, -122.834794], [40.42472, -80.114547], [30.68811, -88.04151], [39.07361, -76.93236], [43.089741, -75.317929], [34.100412, -81.035111], [29.181801, -82.18489], [30.5341, -86.458421], [33.796388, -84.393405], [33.537348, -86.82811099999998], [32.70571, -96.891359], [27.95615, -82.476671], [44.05492, -121.26421], [36.790181, -119.610191], [34.034131, -118.355612], [43.6262, -123.21858], [42.42092, -87.82568], [40.019673, -75.694548], [34.14793, -118.08217], [34.26263, -118.44132], [25.865297, -80.20832], [39.186338, -94.518232], [42.05260300000001, -88.00940600000001], [42.34273, -72.64128000000002], [27.99516, -82.35399], [36.371947, -119.637017], [28.495988, -81.330915], [36.04414000000001, -86.65718000000004], [39.09612, -94.56048], [34.03568, -118.09821], [39.122741, -121.574103], [32.87500900000001, -80.718473], [36.02213, -87.26531], [37.994872, -84.586926], [29.668346000000003, -95.354045], [34.128279, -117.505956], [41.50727, -87.31969000000002], [32.441982, -93.78569], [33.696874, -117.178527], [33.93293, -118.03602], [40.570318, -111.977255], [33.831645, -118.208712], [33.330739, -117.159542], [33.556312, -117.673069], [41.244338, -111.984566], [35.252482, -118.896251], [37.63867, -120.618731], [30.319936, -81.724274], [32.898094, -96.714375], [28.667706, -80.878609], [38.481721, -121.403054], [40.405536, -111.526884], [42.725313, -73.888398], [33.818078, -117.876183], [41.427565, -73.41331600000002], [30.45556, -81.63494], [35.585774, -77.560875], [35.40623, -97.54462], [34.018188, -118.27869], [42.913227, -85.608194], [33.010425, -96.845171], [36.993681, -120.104287], [38.869162, -78.529115], [32.777296, -117.162657], [34.07074, -81.14567], [41.11169, -111.75679], [38.721517, -121.802855], [42.947482, -78.765334], [42.27203, -121.810878], [33.869137, -117.757743], [27.7317, -82.642414], [25.964827, -80.174581], [39.09797800000001, -94.599482], [36.078013, -86.69495500000002], [28.472377, -81.414484], [25.59064, -80.381259], [41.247991, -85.28303100000002], [38.47758, -121.50761], [30.796748, -88.10373100000002], [45.141173, -93.284568], [34.865833, -118.883333], [33.974039000000005, -118.080118], [37.647549, -77.589156], [32.221637, -110.908231], [25.536395, -80.380096], [28.553123, -81.37948], [42.922068, -123.27725900000002], [30.464218, -87.25134399999996], [30.466356, -91.105412], [32.257688, -110.927333], [35.03148, -80.971735], [45.01977, -92.98478], [35.39749600000001, -118.992296], [39.18534, -94.5186], [41.23815, -73.130826], [30.40068, -86.993184], [35.203684, -80.72247], [33.94583, -118.09412], [34.133386, -117.678354], [36.068812, -119.039322], [40.89791, -81.43028000000002], [37.79461, -80.855222], [34.694936, -81.92062], [42.97788, -73.95437], [47.5803, -122.16587], [38.630279, -121.267057], [36.177556, -86.773126], [41.410088, -74.348387], [45.08068400000001, -93.052815], [40.319353, -80.02691999999998], [40.785, -73.94091], [37.39236, -121.99954], [44.912687, -124.005007], [40.672963, -73.734923], [37.896019, -76.872035], [39.71734, -104.22813], [38.60006, -121.44007], [39.028104, -94.253307], [30.00585, -81.386209], [38.61409, -90.19702], [39.315894, -120.617104], [40.215209, -74.569621], [45.068657, -93.268124], [34.553061, -82.789627], [33.49428, -112.23771], [33.56114, -117.18099], [33.92694, -118.2809], [45.06408, -93.18622], [25.704529, -80.366353], [43.199181, -77.635992], [40.434719, -111.492535], [44.426256, -121.877935], [26.142525, -80.169749], [33.908263, -81.221056], [34.376614000000004, -117.607405], [41.84636, -87.63839], [29.72967, -95.45683], [44.890253, -93.280612], [45.06449, -93.16253], [33.567963, -117.209969], [32.241386, -110.986193], [33.91685, -117.287415], [39.12165, -76.55205], [45.59436, -118.52488], [34.038451, -118.274001], [35.014665, -85.232286], [33.725581, -117.804117], [45.025255, -123.446514], [34.06827, -117.400621], [34.325884, -81.082575], [34.183501, -118.39921499999998], [40.84005, -73.92905999999998], [34.308186, -118.429456], [40.06611, -75.702115], [32.86821, -96.66777], [38.785086, -77.32719], [42.885181, -83.739166], [33.996831, -117.931031], [35.20244, -80.72588], [43.034223, -83.54734599999998], [40.117789, -87.501543], [40.858379, -122.347301], [41.54039, -87.95218], [36.169971, -86.804629], [41.14595, -73.25962], [28.37634000000001, -81.82328000000003], [42.54935, -114.57475], [40.661514, -79.27008000000002], [33.895848, -118.236551], [35.049457000000004, -118.354692], [25.950319, -80.194328], [38.021066, -122.539283], [42.48473, -121.87588999999998], [38.870326, -76.985439], [36.274205, -86.796745], [29.736574, -95.521051], [47.810193, -122.22494], [32.94683, -117.24298], [29.866585, -95.487273], [39.169124, -123.006352], [34.031664, -118.426662], [26.274778, -80.12491899999998], [34.263656, -118.643944], [37.701479, -121.901521], [34.118754, -117.841132], [33.930902, -118.365733], [40.390527, -75.49614], [33.902286, -118.061505], [35.20213, -80.78862], [34.016166, -81.33277700000002], [42.35279, -88.09182], [30.05571, -95.43261], [39.09799, -76.80603], [38.59385, -121.50407], [39.627293, -84.216503], [36.83749, -76.100803], [42.966781, -85.717026], [26.346505, -80.117944], [25.918812, -80.378854], [38.666019, -77.2731], [42.39695, -83.21822], [40.06466, -78.82868], [25.683568, -80.33545699999998], [38.799129, -76.90171099999998], [34.00248, -117.37936], [25.624523, -80.314953], [36.753176, -119.738645], [25.890634, -80.163446], [38.570459, -76.06366], [29.779224, -95.599212], [33.803259999999995, -118.13723], [43.609005, -116.193339], [44.55843, -123.25839], [37.866179, -122.206048], [40.251584, -75.654928], [27.965468, -82.764332], [42.977644, -76.80204300000003], [41.46138, -72.115022], [33.441963, -86.730035], [39.111536, -77.77346700000002], [33.18117, -117.34259], [38.91348, -76.850658], [35.811721, -77.469251], [34.762918, -92.383886], [38.631264, -90.375385], [33.87554, -118.1932], [41.545904, -72.749329], [31.537541, -90.48003], [33.314248, -117.195035], [33.53861, -112.1862], [33.543131, -80.912639], [40.475338, -77.38927199999998], [41.316111, -120.115556], [35.85719500000001, -78.808865], [37.066564, -121.219156], [39.652212, -121.810493], [32.586726, -97.31946], [35.39942999999999, -118.79965], [33.935085, -117.111292], [38.785871, -90.502263], [33.93935, -117.2218], [33.960143, -118.244167], [42.70039000000001, -73.84454000000002], [28.84387700000001, -81.897475], [46.846927, -92.521771], [40.435351, -79.982337], [34.152017, -118.128161], [37.787992, -122.393609], [35.001606, -85.112445], [35.305469, -80.856954], [35.080535999999995, -80.73212099999998], [39.643338, -75.893479], [37.34852100000001, -77.356527], [35.646938, -117.81238799999998], [44.630684, -117.520475], [36.119866, -95.886717], [38.374662, -122.685845], [43.940688, -91.735357], [33.876085, -118.164333], [36.778787, -76.438193], [43.016464, -83.69754], [30.56416500000001, -81.83041], [25.76105, -80.48133], [34.72009, -86.60897], [45.661051, -94.177125], [44.96602, -123.00087], [38.927318, -77.036465], [32.148446, -110.981863], [34.27568, -83.86705], [39.262164, -76.707819], [36.105984, -87.696], [45.298437, -93.799298], [45.270603, -122.777099], [36.493327, -121.427181], [34.154133, -118.467958], [39.848667, -75.382186], [26.667281, -81.887698], [25.685274, -80.312563], [38.342799, -77.49546099999998], [28.447096, -81.364511], [43.633724, -93.324834], [37.142056, -93.270542], [25.947307, -80.15153199999997], [33.480217, -86.827046], [37.667709, -122.465854], [39.052407, -121.071779], [36.157856, -86.781453], [41.846352, -87.965], [38.102878, -120.92203], [28.53729, -81.36832], [29.937573, -95.456554], [28.576486, -81.475993], [25.763262, -80.29816], [25.740541, -80.295959], [34.56023, -79.18056999999997], [33.551287, -117.181548], [37.278681, -79.937263], [45.031209, -93.349605], [34.06847, -117.3915], [39.398618, -77.437162], [37.81478, -122.30074], [32.806176, -96.66329], [35.1521, -110.46947], [26.84352, -80.1046], [25.882665, -80.361159], [37.417347, -77.686429], [34.951975, -118.934583], [40.425849, -112.380563], [29.950765000000004, -90.07158000000004], [33.130171999999995, -87.488985], [42.575308, -82.858345], [34.03309, -118.14486], [34.318499, -119.290474], [34.829387, -82.702967], [40.041167, -76.390242], [37.726348, -121.640625], [37.8275, -121.21745], [32.629786, -80.884244], [40.353394, -74.120775], [34.03078, -118.391248], [32.881183, -96.692374], [27.036905, -80.233406], [34.03655, -118.15644], [39.10543, -121.5534], [34.075709, -118.29169], [40.654079, -74.28715], [38.989674, -77.077087], [33.648305, -117.911949], [40.323129, -79.31083100000002], [32.66988, -96.93186], [26.37427000000001, -80.11654], [33.437727, -112.026775], [37.50986500000001, -77.705991], [39.75067, -84.14148], [36.82608, -119.71346], [40.000819, -75.219799], [44.96663, -123.05848], [37.027004, -76.332138], [38.893724, -112.411883], [30.310399, -81.523949], [36.307465, -86.694867], [35.025685, -85.278961], [33.787884000000005, -81.92245], [33.294875, -117.459636], [34.261553, -118.440168], [40.44510800000001, -79.989434], [43.028854, -83.656341], [34.157461, -118.158693], [38.668883, -90.361382], [38.925708, -104.719694], [35.980823, -77.964044], [34.731059, -82.814397], [34.183248, -79.40002], [44.951945, -93.273174], [39.305684, -120.665024], [25.761786, -80.339448], [45.572273, -93.181353], [42.20744000000001, -121.73678999999998], [43.80858, -95.30178], [34.836004, -80.807887], [33.34077, -111.893445], [38.549161, -122.720441], [28.449406, -81.40097800000002], [34.08874, -117.99432], [25.829285, -80.245094], [41.831191, -122.956856], [34.80032, -92.215579], [38.10306, -122.51428], [39.753941, -84.149297], [33.728917, -117.984119], [40.42959000000001, -79.885979], [38.88239, -77.401157], [42.199224, -123.651203], [34.06554000000001, -117.99992], [33.818659999999994, -117.91842], [37.223796, -76.787639], [34.069887, -117.964802], [42.393386, -87.948893], [38.202011, -120.723023], [44.29145, -121.480562], [40.932133, -87.219206], [35.791618, -78.61308000000002], [47.57175, -122.3201], [34.031771, -118.429666], [40.78686, -73.82392], [38.129107, -78.43860500000002], [42.338288, -79.58371899999999], [28.44886, -81.465857], [40.947817, -74.072171], [29.992858, -95.576066], [34.48512, -92.72107], [40.747636, -73.84881999999998], [40.883957, -80.32294300000002], [33.938655, -117.291158], [38.673329, -121.382976], [34.07431, -118.27225], [33.856214, -117.785471], [25.94305, -80.14917], [38.739951, -120.720038], [34.156244, -118.25498600000002], [25.76119, -80.36847], [44.74154, -124.05575], [30.422432, -87.270638], [40.447896, -80.008749], [32.77943, -116.98455], [34.075466, -118.159985], [36.163615, -86.793803], [35.742427, -78.662605], [40.185881, -111.64637], [34.217637, -80.597838], [39.72242, -86.15879], [39.81215200000001, -86.179698], [35.879575, -78.692653], [34.029941, -118.44219], [34.871302, -120.468231], [38.561534, -121.821688], [37.075629, -94.715875], [41.87867, -71.3793], [39.163195, -122.920908], [37.972389, -122.521939], [32.75808, -117.10902], [29.690266, -95.31332], [42.739628, -123.371288], [37.026296, -76.448937], [34.06288, -78.85083], [37.503818, -121.962855], [39.807763, -75.499897], [37.51895, -122.330304], [40.667342, -111.90153], [25.925515, -80.171996], [37.334263, -122.028235], [33.737522, -84.392155], [40.831192, -74.024473], [40.97397, -78.06104], [36.962302, -121.887296], [28.872016, -81.284376], [29.665466, -95.413188], [36.75262, -119.78808], [41.013541, -83.687058], [33.442909, -86.731223], [32.65217, -117.06859], [36.08159000000001, -79.74656999999998], [25.889347, -80.186409], [42.39017800000001, -83.01030899999998], [35.62, -119.655833], [41.598353, -73.764147], [30.009431, -90.022287], [33.12896, -117.114375], [38.562227, -121.47219], [36.348017, -94.125404], [33.95669, -117.30653], [40.494242, -77.104614], [37.961157, -122.053422], [45.57793, -122.67869], [36.999364, -122.021389], [33.478027000000004, -117.139969], [25.732181, -80.379671], [38.960534, -80.520547], [34.053894, -118.23438], [25.962998, -80.15742900000002], [25.92675, -80.153746], [38.909232, -77.005339], [33.707704, -112.11622], [25.826212, -80.331264], [36.167056, -97.889688], [35.460491, -82.544545], [34.067399, -117.571285], [25.748801, -80.335788], [33.9912, -117.941761], [33.423682, -86.70183399999998], [32.723781, -117.150459], [33.66275, -117.75438], [37.82247, -122.26854], [35.410698, -82.518997], [39.37565, -76.45211], [30.304236, -97.703726], [35.21087, -80.69779], [34.045677000000005, -118.215494], [33.609284, -117.68599], [29.442855, -98.436201], [30.44365800000001, -87.250364], [37.80811, -122.36719], [39.158434, -76.83041800000002], [42.97134000000001, -71.41301999999997], [36.195133, -86.775566], [38.558247, -76.848787], [34.034718, -118.338308], [38.793394, -77.152959], [45.075999, -93.327108], [45.138481, -93.038708], [36.986879, -121.558195], [38.858176, -76.851805], [29.610982, -95.285667], [39.325149, -120.224624], [38.342602, -119.445695], [37.683833, -122.112724], [41.63289, -90.86436], [34.717923, -120.200697], [37.32429000000001, -119.566493], [25.577061, -80.371183], [25.925478, -80.291995], [33.407207, -84.837401], [33.54226, -112.04082], [38.879349, -77.248722], [28.346923, -81.645414], [37.99478, -122.291239], [27.43984600000001, -82.57543299999998], [42.196272, -87.931234], [34.864608000000004, -118.131405], [28.482098, -81.396662], [37.634487, -122.086611], [30.435185, -85.390927], [40.478781, -104.528415], [39.532296, -75.649089], [36.75284, -119.7003], [33.197303999999995, -87.565337], [36.749192, -121.768223], [37.886788, -122.056021], [38.00754600000001, -122.541238], [34.15482, -118.23978], [36.36082, -82.69434], [44.47465, -95.45643], [45.171424, -93.391952], [29.71767800000001, -95.614015], [34.240234, -118.450249], [37.53551, -77.42517], [44.12367, -121.28537], [41.04304000000001, -81.50551], [37.725046, -122.137409], [43.00338, -89.76054], [33.621007, -85.59260400000002], [39.01194, -77.0414], [34.679999, -83.025357], [45.244041, -117.957162], [38.0268, -121.92836], [38.632103, -90.290354], [25.941826, -80.320761], [38.538242, -121.473675], [29.827684, -95.526374], [34.00696, -117.96423], [42.68427, -86.01281999999998], [38.56057, -121.45827], [39.264837, -121.016621], [30.712601, -81.672416], [28.609973, -81.40798000000002], [32.870421, -96.897525], [35.22529, -80.92489599999998], [44.426256, -121.877935], [29.6686, -95.56027], [44.991447, -93.236374], [38.589969, -121.72937], [36.081571, -85.213275], [29.73845, -95.26518], [38.83744, -77.44549], [39.937415, -105.126901], [36.52522800000001, -121.467487], [39.305938, -76.792448], [40.89264, -74.66229], [28.50417, -81.24502], [33.782809, -84.245708], [37.35088, -121.83811], [39.014137, -121.430671], [34.91796, -81.98917], [45.679843, -111.046238], [35.67263900000001, -119.226239], [38.541206, -121.491908], [39.707534, -75.58784200000002], [45.49088, -122.678529], [33.83574, -117.53217], [28.851613, -81.60153000000003], [43.56951, -116.20903], [37.52096, -120.401669], [31.760790000000004, -106.26751000000002], [33.946698, -118.084316], [34.11001, -118.33386000000002], [39.965648, -74.92107], [33.880423, -117.612003], [34.026295000000005, -118.208269], [34.529602000000004, -82.438919], [33.034636, -80.202078], [37.71122, -77.78576], [43.22321, -77.64139], [34.03722, -118.3091], [34.008181, -81.110896], [30.461351, -91.075934], [32.287461, -110.978274], [33.522616, -112.268937], [36.836525, -76.069947], [39.83815, -74.92511], [35.181811, -80.83829399999998], [39.81277, -84.22742], [33.85378, -117.928351], [38.97725, -76.7136], [33.926545000000004, -118.305298], [39.46078, -77.10361], [41.656411, -75.45406899999998], [34.030711, -117.585855], [42.082773, -88.3354], [39.912124, -75.192631], [45.52323, -122.69429], [37.764022, -122.216843], [32.796454, -117.209463], [37.690054, -122.13688700000002], [38.65844, -90.44844], [33.925857, -117.981405], [38.79531400000001, -77.170887], [37.504963, -77.657224], [36.547406, -119.624343], [37.363718, -121.897999], [44.815217, -93.221279], [26.17241700000001, -80.899899], [33.876296999999994, -118.105332], [40.6794, -111.9022], [40.170374, -74.09372900000002], [38.663497, -121.891048], [44.387561, -124.08833], [39.27132, -104.89723], [33.693797, -117.93029], [34.08726, -117.646955], [41.5743, -72.65202], [30.31711, -81.73409000000002], [28.669039, -81.43634300000002], [34.096378, -118.476829], [42.43126, -71.5922], [33.657219, -117.76003], [42.57409000000001, -113.47833], [44.955807, -93.090881], [35.896572, -78.505434], [41.501031, -84.555712], [40.019254, -75.69850699999998], [34.036559000000004, -118.317903], [26.20346, -80.14875], [39.786242, -84.169952], [37.81503, -119.875079], [34.23998, -119.182], [33.999742, -118.179324], [43.063598, -83.51730400000002], [26.43405, -80.08939000000002], [28.09868, -81.27733], [34.210317, -118.473438], [40.632444, -111.495051], [38.70877700000001, -121.085035], [42.218941, -87.846293], [41.59891500000001, -93.503219], [33.226295, -111.806538], [38.20009500000001, -120.014895], [43.056858, -73.356251], [40.809971, -73.90237900000002], [44.95616500000001, -92.958659], [37.616476, -121.030388], [34.426292, -118.585063], [29.909, -95.37464], [30.274447, -82.797271], [34.072455, -118.069349], [40.71742, -111.90431], [26.150781, -80.119265], [41.589925, -90.370778], [38.894358, -81.733313], [33.63531, -84.45725999999998], [29.69965, -95.547366], [45.168082, -109.273903], [44.094316, -124.113086], [32.839398, -117.161613], [34.655975, -86.804105], [34.014083, -118.485036], [42.04835, -119.48362], [25.47252000000001, -80.44736999999998], [43.477811, -73.753866], [41.66735, -85.81599], [41.47598, -81.66053000000002], [37.49228400000001, -120.762101], [36.1692, -86.606629], [28.659831, -81.230512], [45.084965, -93.407703], [37.636712, -122.074729], [36.844204, -79.90458100000002], [38.975833, -123.479601], [30.215703, -84.361283], [33.854267, -117.803981], [43.098819, -75.588427], [37.70201, -121.91683], [32.730208000000005, -96.682858], [37.31909, -121.99187], [38.108957, -121.259558], [38.887573, -77.026531], [39.783188, -86.14580699999998], [38.0579, -121.3733], [37.68158, -77.66530999999998], [33.793022, -80.05806700000002], [25.85393, -80.35725500000002], [40.592311, -111.938656], [42.16615, -88.062351], [32.75953, -97.09513], [30.183527, -85.56532299999998], [25.881168, -80.242938], [33.99796, -117.9356], [35.084340000000005, -81.70298000000003], [37.541562, -77.42710100000002], [25.78457, -80.23617], [44.06569, -95.63777], [34.154337, -118.392716], [37.628551, -77.434962], [36.695631, -81.99762], [39.80314, -86.03228], [33.938321, -117.877127], [30.615188, -86.960359], [33.95361, -117.38329], [34.265831, -79.73114100000002], [34.081767, -117.710298], [30.221705, -85.628692], [42.78968, -73.92963], [33.21358, -117.389085], [33.69016, -84.50358], [38.943538, -121.097651], [37.70206500000001, -122.496802], [35.782588, -78.639975], [30.276446000000004, -81.52136999999998], [42.306445, -121.415201], [34.125668, -109.930517], [39.87475900000001, -75.096627], [28.371783, -81.404381], [45.265486, -93.010261], [32.806846, -117.153704], [44.63488, -92.9945], [38.34066, -121.334256], [33.9597, -117.85732], [40.087313, -75.384106], [27.79179, -82.338177], [44.859593, -93.386282], [31.77577, -106.25297], [34.752707, -82.039], [38.322461, -121.326124], [28.332818, -81.49584399999998], [32.25048, -110.99541], [40.987297, -73.853026], [33.922259999999994, -118.36903], [27.495040000000003, -81.494948], [28.398000000000003, -80.70494000000002], [30.31727, -89.59448], [34.15952, -118.46386], [39.015251, -94.497109], [38.30032, -77.50444], [37.722109, -122.057924], [39.407918, -76.781974], [41.03561, -76.853634], [36.16813, -86.777392], [42.1973, -87.98939], [36.775953, -121.669479], [29.99481, -90.105496], [33.924731, -118.210009], [33.92419, -84.35795], [35.087736, -80.84799100000002], [45.507267, -122.670214], [33.818096000000004, -117.876411], [33.931585, -118.394132], [40.43586, -111.89549], [27.964562, -82.74615899999998], [37.2399, -121.78489], [34.032982000000004, -118.13773799999998], [40.338934, -79.959913], [37.806304, -122.474716], [34.02603, -117.56591], [44.406343, -120.503765], [39.742016, -121.883297], [29.728113, -95.461674], [42.31505, -88.0044], [43.19059, -89.33979000000002], [43.960317, -121.348032], [41.65472000000001, -70.99301], [27.25416, -82.49766899999999], [42.334741, -83.13141999999998], [38.209245, -122.20221200000002], [37.910721, -122.316783], [33.663554, -117.79464], [36.719703, -119.000198], [25.797503, -80.24835999999998], [44.007421, -92.482277], [42.80484000000001, -86.07828], [39.212169, -76.678863], [41.2012, -73.27167], [32.13403, -110.95628], [33.910732, -118.361278], [32.67161, -96.96503], [25.935124, -80.12176099999998], [33.98784000000001, -117.34759], [42.672195, -73.756045], [45.529899, -122.644877], [34.067445, -117.580526], [28.421394, -81.400216], [32.759304, -117.203752], [34.156433, -118.254987], [32.812844, -96.825926], [45.13252, -123.20652], [25.691056, -80.365953], [25.928351, -80.293413], [41.57004000000001, -87.40981], [34.021459, -118.196597], [38.500018, -121.450323], [37.63497, -122.08695], [34.706844, -80.76173100000003], [29.854489, -95.468549], [38.648841, -121.393681], [44.862245, -93.260528], [39.11920900000001, -122.881652], [42.87179, -78.80208], [42.93322, -78.80212], [44.97203, -93.28759], [35.243284, -80.880829], [34.070591, -118.464891], [37.5729, -122.31636], [39.2936, -76.518112], [37.341161, -119.696692], [34.188773, -118.156073], [40.741509, -73.28222], [34.14772, -118.27921], [34.012910999999995, -118.14043], [37.82761, -121.99748999999998], [33.871948, -118.206775], [38.840241, -77.401752], [40.58448900000001, -73.961834], [33.973624, -118.23453700000002], [34.071740000000005, -117.87696], [40.61513, -111.43355], [36.263881, -86.72017199999998], [35.655519, -120.399759], [38.448192, -81.849151], [33.465740000000004, -112.05638], [38.809927, -77.132474], [40.113433, -75.122528], [42.25538, -85.53629000000002], [36.047325, -118.93725], [26.002846, -80.167161], [30.470998, -91.111862], [38.4519, -121.40824], [35.88410800000001, -78.56930200000002], [40.826004, -73.85970999999998], [34.415377, -118.794555], [33.679844, -117.760788], [37.84857, -122.23405], [41.819, -87.73767], [25.688772, -80.31230500000002], [37.56635, -122.04168], [37.499631, -81.108745], [37.702064, -121.083099], [34.072665, -117.097655], [38.79217, -90.56153], [34.152018, -118.466926], [47.490246, -122.26432], [39.121685, -121.576914], [36.992694, -119.413801], [36.17694, -115.1518], [33.990334999999995, -118.063623], [34.03465300000001, -118.703408], [30.246869, -97.735018], [32.250193, -81.130957], [33.74902, -118.263121], [29.750054, -95.358971], [25.782552, -80.312617], [39.056296, -75.460212], [39.576401, -76.124172], [40.84507, -73.91626], [32.759445, -97.036931], [30.001243, -90.039488], [43.982487, -121.621345], [35.823562, -78.580635], [34.279059000000004, -118.467648], [39.77455, -104.853232], [40.139527, -80.348421], [34.849934000000005, -86.715845], [34.07584, -117.62046], [34.75571, -82.285628], [34.037188, -81.090846], [32.458944, -93.758845], [38.565276, -121.513696], [25.903032, -80.330714], [35.10757, -90.02926], [35.900197, -78.728666], [39.264629, -121.597264], [34.046964, -118.446775], [34.0108, -117.962859], [33.503869, -117.658649], [36.119645, -86.697204], [33.988966999999995, -118.372146], [26.22180800000001, -80.185535], [28.20605, -82.66797], [41.137346, -111.797216], [33.960007, -118.286764], [27.795442, -82.70415600000003], [34.041758, -81.10910200000002], [30.30533, -97.71316], [32.187656, -110.96834], [39.39882, -76.55215], [33.119087, -80.114863], [34.14956, -118.467586], [41.88974, -87.97914], [33.805442, -80.068428], [32.976822, -96.768225], [39.872763, -105.061142], [33.811956, -79.031083], [40.71243, -111.80242], [35.122242, -120.586935], [33.964044, -117.325059], [44.796591, -123.403104], [33.56374, -117.124186], [42.13241, -122.63335], [44.638048, -123.176931], [27.79, -82.67939100000002], [44.774229, -120.96867], [33.969694, -118.230219], [33.935228, -118.09248], [25.85545, -80.205961], [34.038137, -117.993729], [37.345414, -121.857793], [25.846028, -80.241816], [28.48298, -81.457877], [38.830109, -78.57668699999998], [39.254654, -94.659372], [33.50274, -117.65737], [38.648158, -77.307175], [32.842029, -117.113388], [38.859342, -77.003398], [47.23188, -122.4394], [39.920935, -76.59429300000002], [35.270808, -119.228259], [47.54626500000001, -122.326166], [33.98785, -117.89648], [29.99088, -90.05845], [33.464376, -91.339807], [32.850676, -117.179843], [28.336745, -81.489887], [36.692853, -119.663913], [37.349285, -121.802766], [34.743894, -81.161828], [36.14069600000001, -86.800343], [37.551623, -120.911396], [37.39608, -121.90758999999998], [37.405572, -121.877513], [34.278817, -80.80076], [30.249921, -81.546396], [27.58549600000001, -82.61850799999998], [40.75933, -111.95148], [41.62166, -87.68318000000002], [42.25891, -83.27016], [34.91771, -82.10178], [41.07149, -73.47955999999998], [34.146655, -118.76693799999998], [34.829825, -82.302242], [38.500022, -121.412848], [39.973439, -110.622648], [34.175258, -80.97575], [45.013829, -93.089808], [34.449839000000004, -117.642799], [47.57142, -122.3342], [40.665646, -73.99355200000002], [33.671676, -117.983474], [35.093474, -80.794026], [38.953472, -94.735547], [37.576978, -122.32048600000002], [39.296615, -76.827958], [47.674022, -117.245804], [41.499107, -73.796685], [25.89697300000001, -80.25132099999998], [28.452939, -81.400159], [30.506064, -87.259637], [43.126305, -77.70201800000002], [34.179271, -118.395205], [44.641619, -121.128219], [27.825869, -82.665821], [25.732854, -80.31828399999998], [39.9322, -82.93122], [35.897489, -78.609352], [34.139774, -117.323991], [39.43942, -104.9616], [27.893782, -82.728987], [35.34487700000001, -119.03526200000002], [43.65176, -93.99858], [36.21112, -119.618851], [32.43164, -86.36995999999998], [34.13622, -117.47824], [32.837716, -86.955875], [34.038994, -118.439912], [41.004003, -76.452997], [34.018142, -117.33562], [30.625237, -88.124138], [44.9632, -92.9602], [45.38563, -122.57885], [33.678543, -78.967488], [42.26904, -84.449115], [39.017589, -77.10093499999998], [35.10629, -106.64868], [39.29433, -102.27742], [28.0916, -82.45468000000002], [35.45259, -83.05792], [33.868803, -117.676026], [43.10250900000001, -75.16305], [42.199169, -87.862439], [35.059112, -80.812587], [32.9296, -117.24059], [33.897214, -117.492904], [39.151501, -123.196713], [40.066952, -76.328264], [35.44255, -80.87105], [37.673383, -122.468222], [34.567166, -82.739003], [33.984953999999995, -118.072392], [33.867107, -117.744831], [41.834936, -87.686063], [38.671908, -121.387482], [34.273599, -118.591028], [34.432694, -119.280065], [42.27807, -83.154], [37.86749, -121.6384], [44.048835, -116.132129], [40.71201, -111.80119], [45.47892, -93.90265], [37.691797, -122.139718], [40.692747, -111.903122], [30.438275, -81.724651], [40.85704000000001, -111.90628999999998], [41.071175, -93.295694], [33.856912, -118.029567], [34.166076000000004, -118.618193], [37.960629, -122.50954], [34.803075, -82.227435], [40.89675, -74.21876], [32.356243, -86.171283], [34.068649, -117.400765], [39.232188, -76.64934699999998], [25.598519, -80.356751], [35.92505, -84.0589], [41.0678, -73.49316999999998], [45.526753, -122.658115], [37.54952, -77.287198], [30.276399, -97.767494], [38.639993, -121.482581], [47.126517, -117.37929], [33.876546000000005, -118.078726], [25.747361, -80.348587], [34.36128, -118.50558], [33.774257, -118.077718], [40.734036, -73.86458499999998], [39.725586, -105.088809], [45.590847, -111.083687], [36.707417, -119.699921], [34.000642, -118.17498799999998], [42.01792, -120.29822], [29.975652, -81.897755], [25.811419, -80.194631], [25.747767, -80.333922], [34.20742, -118.217351], [38.248932, -77.510532], [45.50442, -122.56546000000002], [33.854197, -117.800153], [39.996972, -75.08207], [31.78384, -81.37773], [40.454023, -80.18073299999998], [28.567167, -81.286008], [25.886708, -80.323938], [39.957014, -75.15545], [40.77262, -111.91077], [38.858922, -121.571535], [43.122632, -77.44149200000003], [33.907765000000005, -118.181656], [32.91978, -96.8523], [29.730585, -95.424622], [42.92717, -85.6338], [30.321466, -81.549785], [40.71172, -111.9039], [44.45984, -69.71324], [32.818782, -96.690576], [25.92886, -80.21192099999998], [43.042517, -70.816732], [30.453254, -97.681465], [33.781305, -117.879533], [25.68844, -80.416264], [33.03306, -117.27947], [36.710986, -119.778227], [34.753778999999994, -92.262357], [37.53708, -77.2783], [42.446597, -88.090588], [36.060315, -79.603296], [28.34641, -81.487022], [41.810506, -123.115822], [39.564031, -121.43374], [33.74463, -84.39923], [25.77177600000001, -80.262026], [43.201042, -75.61204000000002], [36.77711, -76.379684], [47.610262, -122.331383], [39.914735, -76.704472], [35.084920000000004, -85.07136], [44.890822, -93.315697], [41.079273, -78.786132], [33.876883, -118.014693], [33.541123, -112.418506], [35.26600999999999, -80.76909], [38.97221, -77.17912], [32.800705, -97.320088], [34.903199, -82.60155300000002], [45.38649, -122.7509], [38.9548, -77.00904], [41.767581, -87.625578], [39.074112, -76.95648], [28.324073, -80.771259], [27.594879, -81.990499], [47.881973, -122.223176], [40.08086, -75.385919], [37.779474, -121.315183], [27.99609, -82.48439], [35.07987, -106.71057], [25.810399, -80.15480500000002], [28.59638, -81.39838], [25.733292, -80.330738], [39.734383, -104.330946], [40.473518, -123.654834], [30.461091, -87.299461], [38.455551, -121.302438], [33.560352, -112.257933], [38.580046, -121.505151], [38.333584, -85.82299499999998], [34.036390000000004, -117.3222], [38.231684, -122.10921100000002], [37.894318, -122.120182], [34.073339000000004, -117.295407], [34.105259000000004, -118.321268], [42.69816, -123.384206], [27.937821000000003, -82.30870300000002], [34.441891, -119.789224], [33.38465, -111.96731], [25.944441, -80.12118199999998], [33.743509, -84.36859399999999], [37.793325, -122.263524], [42.927612, -85.66967], [42.26455900000001, -71.045519], [32.698649, -117.144738], [28.44069600000001, -81.229766], [40.348294, -104.98112], [41.730907, -122.633158], [25.924424, -80.31085300000002], [33.018046000000005, -111.765456], [29.69565, -95.30007], [41.741693, -72.735222], [35.136899, -81.672446], [38.155807, -122.411094], [35.028296000000005, -82.125957], [37.979634, -122.317366], [34.205677, -118.200095], [35.217712, -80.814607], [39.977261, -105.214649], [27.855953000000003, -82.346879], [38.00127, -122.28231], [34.274359999999994, -118.37623], [33.900029, -118.19588], [32.805315, -80.769478], [25.923883, -80.21042], [35.512844, -78.55635500000002], [43.40298, -73.71368000000002], [45.30481, -92.96075], [45.833673, -119.62302], [36.32081, -119.65912], [40.43114, -111.89076], [33.4695, -112.0387], [42.92005, -85.76009], [33.64034, -112.07417], [34.08915, -117.30201], [32.79385, -96.70278], [32.7706, -96.8154], [36.184188, -86.79809399999998], [30.603589000000003, -87.148849], [33.922315000000005, -118.104346], [25.684676, -80.387136], [39.00479, -94.78436], [47.142185, -114.812888], [38.56057, -121.45827], [34.383114, -117.385685], [33.461352000000005, -112.038491], [47.30346, -122.218663], [33.916428, -118.267158], [25.77773, -80.302995], [35.027653, -85.254885], [42.301239, -87.84605], [47.523961, -122.71367], [36.793847, -119.817503], [34.1237, -84.74075], [37.444034, -122.259088], [35.153936, -120.662038], [39.165748, -122.97683899999998], [33.02779, -79.810424], [36.334123, -119.197903], [44.79909, -93.28955], [47.62943, -122.15685], [35.775794, -78.645241], [36.073671, -79.937523], [34.002524, -117.379077], [35.663425, -121.25739], [34.25368, -118.47216], [37.487048, -76.958782], [33.524927000000005, -117.667759], [42.3132, -71.38768], [28.59063, -81.37906], [33.576934, -84.523225], [44.893424, -93.252965], [37.66344, -122.48473], [38.368269, -121.519299], [33.872733000000004, -118.2942], [40.099299, -76.357052], [37.168866, -122.052042], [29.776969, -95.381236], [32.377083, -96.6465], [33.2078, -80.54356], [37.691797, -122.139718], [32.95364, -117.24456], [45.874581, -95.468593], [29.739122, -95.476886], [34.066717, -117.238382], [32.8482, -96.5751], [33.949731, -117.38572], [40.310136, -79.890936], [40.187135, -77.208363], [39.27103, -76.54326999999998], [45.095501, -94.322725], [44.966421, -123.03258999999998], [41.87544000000001, -87.656994], [33.881012, -117.616426], [25.627596, -80.377561], [33.73135, -117.81199], [33.111237, -117.096437], [28.840254, -82.299688], [25.716005, -80.29231999999998], [42.185316, -88.093634], [39.2936, -94.68403], [38.869746, -77.303269], [28.420886, -81.370338], [41.440124, -73.473264], [27.185443, -80.320991], [29.712797, -95.484685], [39.961237, -75.603537], [25.938449, -80.188624], [26.680093, -81.9146], [26.546554, -81.842427], [40.62353, -75.48185699999998], [32.365608, -95.326016], [40.136611, -78.34139300000002], [30.317222, -97.662346], [34.083685, -117.693902], [37.593551, -77.669337], [45.569235, -122.613559], [35.026871, -85.15736600000002], [38.879145, -76.997112], [38.967184, -119.922319], [40.020007, -75.321009], [33.858118, -92.293822], [43.746024, -92.661255], [41.415714, -73.641631], [28.072632, -82.454613], [38.494969, -120.695091], [25.687654, -80.31287900000002], [44.629636, -122.982239], [39.095323, -79.778574], [39.137474, -85.9582], [37.314889, -113.292656], [34.75215, -86.74981], [29.52059, -98.49334], [36.06613, -80.30704300000002], [33.83087800000001, -117.834297], [33.924731, -118.210009], [32.751740000000005, -117.15588], [28.189954, -82.681733], [35.834063, -119.087836], [36.628021, -121.838389], [41.422288, -81.52617099999998], [33.917635, -117.437145], [35.074584, -85.195858], [44.969401, -93.303545], [34.057692, -112.145172], [39.002142, -112.314678], [37.98471, -122.04116], [37.368257, -77.345573], [37.57711, -121.97097], [33.995147, -118.144719], [25.942363, -80.30466899999998], [35.286469, -119.642119], [30.060385, -81.498008], [39.885574, -75.209537], [34.155539000000005, -118.2966], [33.183687, -111.89293700000002], [39.69682, -86.18269000000002], [38.65931, -120.972493], [41.551676, -73.05005899999998], [40.78384000000001, -73.54295], [40.194192, -75.221147], [37.396178000000006, -122.014677], [29.704026, -95.568744], [42.01389, -87.75305], [29.27115, -82.194503], [33.719120000000004, -84.39681], [38.185655, -77.501202], [25.90179, -80.160051], [25.928189, -80.199392], [29.73185800000001, -95.266369], [37.62779000000001, -122.08183], [33.7745, -118.06948], [33.855303, -117.875307], [40.477704, -74.40482], [26.39807, -81.81051], [30.18128, -81.513], [35.305918, -80.79289399999998], [42.34764000000001, -71.08004], [33.967479, -118.231424], [42.98167, -71.46992], [35.95361, -78.52693000000002], [28.566847, -81.20678000000002], [40.73112, -111.90474], [38.890766, -121.015889], [42.211867, -83.684956], [33.419740000000004, -82.05459], [38.01058, -122.54212], [45.43712, -122.56781], [40.99728, -74.18012], [34.029196, -118.396342], [47.163244, -122.479845], [45.06446, -93.21412], [28.548474, -81.46764499999998], [40.846768, -73.87146], [45.41274, -93.5661], [41.907059, -87.62535], [35.119679999999995, -80.64573], [33.952802, -118.170714], [26.0902, -80.2167], [41.5917, -72.66017], [33.93278, -118.361302], [40.180002, -110.610196], [41.03168, -82.68125], [25.687695, -80.384231], [32.85842, -96.65275], [30.38850200000001, -91.551647], [39.91823, -78.95281999999997], [38.636813, -121.373593], [38.988591, -121.487629], [40.80397, -73.93211], [34.026605, -118.460988], [25.811419, -80.194631], [38.837174, -77.089959], [32.849291, -79.987431], [43.825911, -95.195385], [42.359681, -87.84828399999998], [40.30135, -74.30342399999998], [37.970562, -121.337257], [33.693571, -117.907824], [40.74792100000001, -74.171788], [34.033291, -118.168025], [25.898876, -80.19799], [42.49641, -83.35094000000002], [46.485222, -113.989944], [33.88476, -84.46937], [34.049195000000005, -118.002394], [33.485240000000005, -112.04093], [29.91371, -90.34455], [38.704852, -120.856578], [37.450993, -120.701276], [37.67063, -121.750648], [41.53126, -81.65015], [30.418335, -87.223366], [42.32883, -83.156858], [34.05138, -117.160945], [38.242303, -122.086543], [43.06954, -77.85983], [33.928903000000005, -118.287037], [44.730548, -93.283147], [34.117845, -118.337299], [32.650267, -117.066303], [38.716365, -122.921681], [37.643866, -121.01333], [33.909477, -118.370558], [25.796811, -80.336951], [43.44273, -88.522248], [44.47176500000001, -93.274387], [43.156984, -77.655183], [34.066725, -117.213941], [29.60647, -95.61442], [45.316404, -93.560589], [27.258644, -82.520791], [32.710765, -86.479068], [38.425931, -81.812395], [25.830305, -80.24100899999998], [38.606118, -121.382895], [39.80127, -104.98521], [33.627081, -117.118871], [41.730726, -87.62485], [37.686416, -121.057222], [39.825603, -85.67410699999998], [37.659975, -76.38733], [44.80781, -92.918637], [38.554962, -121.40444], [35.864351, -86.453858], [42.92383, -74.0046], [38.680346, -121.95225], [47.130392, -122.53733], [25.663002, -80.407482], [38.509584, -112.991149], [41.766302, -72.651916], [41.302986, -81.712991], [44.497159, -124.0827], [40.042301, -74.233063], [34.009293, -84.753224], [28.83112, -81.521939], [35.26623, -80.73151999999997], [45.668152, -110.523573], [28.319842, -82.682361], [34.056887, -83.992974], [28.573432, -81.452191], [28.325629, -82.699372], [40.706137, -73.81829599999998], [40.645369, -111.944664], [44.43172, -93.1916], [37.063765, -81.746486], [34.241772999999995, -117.869498], [29.691579, -95.32654], [39.672869, -104.929459], [29.750997, -95.501201], [38.480805, -121.025787], [27.80643, -82.69999], [34.739582, -92.407279], [34.053272, -117.547928], [38.893399, -76.954573], [25.988148, -80.165745], [38.834382, -77.449292], [39.267379, -76.62205300000002], [29.736311, -95.603136], [35.11223, -89.86990899999998], [42.263235, -85.65222], [28.453648, -81.477687], [36.216685, -119.37393], [39.518083, -121.475378], [32.79347, -96.72633], [35.237298, -80.940529], [34.0767, -117.54465], [40.89657, -74.13388], [40.097006, -75.092044], [33.669111, -111.90513500000002], [34.078471, -118.228599], [42.83263, -123.25673], [37.503238, -77.427305], [38.75382000000001, -90.33921], [39.424618, -121.688152], [38.66268, -90.35871], [38.984393, -76.543863], [28.672824, -81.468329], [46.804153, -92.153647], [40.06669, -75.145219], [32.69133, -96.890758], [37.99247, -122.30629], [41.905784, -87.922901], [33.91581, -84.40314000000002], [35.09984, -80.77916], [33.904243, -84.239228], [34.357776, -81.078262], [25.731723, -80.308944], [35.895553, -78.617942], [34.083334, -118.47462], [36.803101, -76.186614], [38.956671, -94.527064], [40.760425, -73.753699], [39.14744, -84.53922], [48.011684, -122.189851], [43.665794, -93.530012], [33.89993, -118.18683], [35.829465, -78.759839], [40.525442, -74.235788], [37.990968, -122.086799], [45.45204, -94.49747], [36.056456, -86.77499499999998], [34.675161, -92.266487], [33.872598, -118.285814], [33.948718, -118.160409], [33.213547, -79.763993], [32.716377, -117.117935], [40.806323, -111.923249], [30.411968, -86.732958], [32.783783, -96.784135], [42.48901, -122.8119], [39.460076, -76.30259000000002], [33.126622, -117.108281], [30.288291, -86.043705], [37.42518, -121.91763], [28.56736, -81.286006], [37.742713, -121.561627], [32.781625, -96.786471], [38.455476, -81.929282], [37.495082, -122.229005], [37.334254, -122.032467], [34.228134999999995, -118.246364]],\n",
              "                {&quot;blur&quot;: 15, &quot;maxZoom&quot;: 18, &quot;minOpacity&quot;: 0.5, &quot;radius&quot;: 25}\n",
              "            ).addTo(map_9edddd50296aa24d7cdce2cdb2cd3c18);\n",
              "        \n",
              "&lt;/script&gt;\n",
              "&lt;/html&gt;\" style=\"position:absolute;width:100%;height:100%;left:0;top:0;border:none !important;\" allowfullscreen webkitallowfullscreen mozallowfullscreen></iframe></div></div>"
            ]
          },
          "metadata": {},
          "execution_count": 152
        }
      ]
    },
    {
      "cell_type": "code",
      "source": [],
      "metadata": {
        "id": "luVKzjznDDMm"
      },
      "execution_count": null,
      "outputs": []
    },
    {
      "cell_type": "code",
      "source": [],
      "metadata": {
        "id": "FGpC26eAHf8A"
      },
      "execution_count": null,
      "outputs": []
    },
    {
      "cell_type": "code",
      "source": [],
      "metadata": {
        "id": "992tx0QkHf3y"
      },
      "execution_count": null,
      "outputs": []
    },
    {
      "cell_type": "code",
      "source": [],
      "metadata": {
        "id": "3tVX4XtfHfxq"
      },
      "execution_count": null,
      "outputs": []
    },
    {
      "cell_type": "code",
      "source": [
        "high_accident_cities = cities_by_accident[cities_by_accident >= 1000]\n",
        "low_accident_cities = cities_by_accident[cities_by_accident < 1000]"
      ],
      "metadata": {
        "id": "VUX91uXzxg-f"
      },
      "execution_count": 51,
      "outputs": []
    },
    {
      "cell_type": "code",
      "source": [
        "len(high_accident_cities) / len(cities)"
      ],
      "metadata": {
        "colab": {
          "base_uri": "https://localhost:8080/"
        },
        "id": "etn8yZE9ytnJ",
        "outputId": "eeec6a87-5c83-42a7-b558-60df01c470c2"
      },
      "execution_count": 52,
      "outputs": [
        {
          "output_type": "execute_result",
          "data": {
            "text/plain": [
              "0.04245848313644924"
            ]
          },
          "metadata": {},
          "execution_count": 52
        }
      ]
    },
    {
      "cell_type": "code",
      "source": [
        "sns.distplot(high_accident_cities)"
      ],
      "metadata": {
        "colab": {
          "base_uri": "https://localhost:8080/",
          "height": 487
        },
        "id": "TRcwo-dnytbA",
        "outputId": "c92e60f0-15fb-4d63-c940-1a1aa8684aae"
      },
      "execution_count": 53,
      "outputs": [
        {
          "output_type": "stream",
          "name": "stderr",
          "text": [
            "<ipython-input-53-50976d58a416>:1: UserWarning: \n",
            "\n",
            "`distplot` is a deprecated function and will be removed in seaborn v0.14.0.\n",
            "\n",
            "Please adapt your code to use either `displot` (a figure-level function with\n",
            "similar flexibility) or `histplot` (an axes-level function for histograms).\n",
            "\n",
            "For a guide to updating your code to use the new functions, please see\n",
            "https://gist.github.com/mwaskom/de44147ed2974457ad6372750bbe5751\n",
            "\n",
            "  sns.distplot(high_accident_cities)\n"
          ]
        },
        {
          "output_type": "execute_result",
          "data": {
            "text/plain": [
              "<Axes: xlabel='City', ylabel='Density'>"
            ]
          },
          "metadata": {},
          "execution_count": 53
        },
        {
          "output_type": "display_data",
          "data": {
            "text/plain": [
              "<Figure size 432x288 with 1 Axes>"
            ],
            "image/png": "[encoded data removed]"
          },
          "metadata": {}
        }
      ]
    },
    {
      "cell_type": "code",
      "source": [
        "sns.distplot(low_accident_cities)"
      ],
      "metadata": {
        "colab": {
          "base_uri": "https://localhost:8080/",
          "height": 487
        },
        "id": "xe0ViczU1jqa",
        "outputId": "f4ab3b0e-03ff-4cf2-c4ec-86f8115edf65"
      },
      "execution_count": 54,
      "outputs": [
        {
          "output_type": "stream",
          "name": "stderr",
          "text": [
            "<ipython-input-54-a69b07a78e7c>:1: UserWarning: \n",
            "\n",
            "`distplot` is a deprecated function and will be removed in seaborn v0.14.0.\n",
            "\n",
            "Please adapt your code to use either `displot` (a figure-level function with\n",
            "similar flexibility) or `histplot` (an axes-level function for histograms).\n",
            "\n",
            "For a guide to updating your code to use the new functions, please see\n",
            "https://gist.github.com/mwaskom/de44147ed2974457ad6372750bbe5751\n",
            "\n",
            "  sns.distplot(low_accident_cities)\n"
          ]
        },
        {
          "output_type": "execute_result",
          "data": {
            "text/plain": [
              "<Axes: xlabel='City', ylabel='Density'>"
            ]
          },
          "metadata": {},
          "execution_count": 54
        },
        {
          "output_type": "display_data",
          "data": {
            "text/plain": [
              "<Figure size 432x288 with 1 Axes>"
            ],
            "image/png": "[encoded data removed]"
          },
          "metadata": {}
        }
      ]
    },
    {
      "cell_type": "code",
      "source": [
        "sns.distplot(low_accident_cities)"
      ],
      "metadata": {
        "colab": {
          "base_uri": "https://localhost:8080/",
          "height": 487
        },
        "id": "egZMnMOh1jla",
        "outputId": "d6ecbd0e-caa7-41e5-bc4b-9580f0600ccf"
      },
      "execution_count": 56,
      "outputs": [
        {
          "output_type": "stream",
          "name": "stderr",
          "text": [
            "<ipython-input-56-a69b07a78e7c>:1: UserWarning: \n",
            "\n",
            "`distplot` is a deprecated function and will be removed in seaborn v0.14.0.\n",
            "\n",
            "Please adapt your code to use either `displot` (a figure-level function with\n",
            "similar flexibility) or `histplot` (an axes-level function for histograms).\n",
            "\n",
            "For a guide to updating your code to use the new functions, please see\n",
            "https://gist.github.com/mwaskom/de44147ed2974457ad6372750bbe5751\n",
            "\n",
            "  sns.distplot(low_accident_cities)\n"
          ]
        },
        {
          "output_type": "execute_result",
          "data": {
            "text/plain": [
              "<Axes: xlabel='City', ylabel='Density'>"
            ]
          },
          "metadata": {},
          "execution_count": 56
        },
        {
          "output_type": "display_data",
          "data": {
            "text/plain": [
              "<Figure size 432x288 with 1 Axes>"
            ],
            "image/png": "[encoded data removed]"
          },
          "metadata": {}
        }
      ]
    },
    {
      "cell_type": "code",
      "source": [],
      "metadata": {
        "id": "1_MO_yUISoor"
      },
      "execution_count": null,
      "outputs": []
    },
    {
      "cell_type": "code",
      "source": [
        "'NY' in df.State"
      ],
      "metadata": {
        "colab": {
          "base_uri": "https://localhost:8080/"
        },
        "id": "f0SXahEGpqor",
        "outputId": "cf9892ef-abeb-4f1b-fe3d-b1715d934d3d"
      },
      "execution_count": 55,
      "outputs": [
        {
          "output_type": "execute_result",
          "data": {
            "text/plain": [
              "False"
            ]
          },
          "metadata": {},
          "execution_count": 55
        }
      ]
    },
    {
      "cell_type": "code",
      "source": [],
      "metadata": {
        "id": "khiwO8OmrUJq"
      },
      "execution_count": 55,
      "outputs": []
    },
    {
      "cell_type": "code",
      "source": [],
      "metadata": {
        "id": "p9Ef5KQvrU_o"
      },
      "execution_count": 55,
      "outputs": []
    },
    {
      "cell_type": "code",
      "source": [],
      "metadata": {
        "id": "UeR785RArUsa"
      },
      "execution_count": null,
      "outputs": []
    },
    {
      "cell_type": "markdown",
      "metadata": {
        "id": "I9rCdrQLBcBR"
      },
      "source": [
        "## Ask & answer questions\n",
        "\n",
        "1. Are there more accidents in warmer or colder areas?\n",
        "2. Which 5 states have  the highest number of accidents? How about per capital?\n",
        "3. Does New York show up in the data? If yes, why is the count lower if this the most populated city.\n",
        "4. Among the top 100 cities in number of accidents, which states do they\n",
        "belong to most frequently.\n",
        "5. What time of the day are accidents most frequent in?\n",
        "6. Which days of the week have the most accidents?\n",
        "7. Which months have the most accidents?\n",
        "8. What is the trend of accidents year over year(decreasing/increasing?)\n",
        "9. When is accidents per unit of traffic the highest."
      ]
    },
    {
      "cell_type": "code",
      "source": [],
      "metadata": {
        "id": "8RE5xXJfWkph"
      },
      "execution_count": 17,
      "outputs": []
    },
    {
      "cell_type": "code",
      "source": [],
      "metadata": {
        "id": "6q3tAVJ00xlI"
      },
      "execution_count": null,
      "outputs": []
    },
    {
      "cell_type": "code",
      "source": [],
      "metadata": {
        "id": "YWhxfrtq0xZj"
      },
      "execution_count": null,
      "outputs": []
    },
    {
      "cell_type": "code",
      "source": [],
      "metadata": {
        "id": "DEpkAPZW0xP7"
      },
      "execution_count": null,
      "outputs": []
    },
    {
      "cell_type": "markdown",
      "source": [
        "## summary and conclusion\n",
        "\n",
        "\n",
        "Insights:\n",
        "- No data from New York\n",
        "- The number of aacidents per city decreases exponentially\n",
        "- Less than 5% of cities have more than 1000 yearly accidents.\n",
        "- Over 1200 cities have reported just oneaccident(need to investigating.)"
      ],
      "metadata": {
        "id": "CCA0ZCbv0yTI"
      }
    },
    {
      "cell_type": "code",
      "source": [],
      "metadata": {
        "id": "eEqfATP_1cax"
      },
      "execution_count": null,
      "outputs": []
    }
  ],
  "metadata": {
    "colab": {
      "provenance": []
    },
    "kernelspec": {
      "display_name": "Python 3",
      "name": "python3"
    },
    "language_info": {
      "name": "python"
    }
  },
  "nbformat": 4,
  "nbformat_minor": 0
}